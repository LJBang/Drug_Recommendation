{
  "nbformat": 4,
  "nbformat_minor": 0,
  "metadata": {
    "colab": {
      "name": "리뷰단위word2vec생성.ipynb",
      "provenance": [],
      "collapsed_sections": [
        "NYK920WAalHr",
        "3DMptQGsauo0",
        "fzLyt0BMgflX",
        "JAXhBr5ahSdW"
      ]
    },
    "kernelspec": {
      "name": "python3",
      "display_name": "Python 3"
    },
    "language_info": {
      "name": "python"
    }
  },
  "cells": [
    {
      "cell_type": "markdown",
      "metadata": {
        "id": "s9NcMp_Walwv"
      },
      "source": [
        "# 작업환경 생성"
      ]
    },
    {
      "cell_type": "code",
      "metadata": {
        "id": "Gq-c6jcIeXW3",
        "colab": {
          "base_uri": "https://localhost:8080/"
        },
        "outputId": "f60b3e3b-c48d-4e11-974c-6b70409c0cad"
      },
      "source": [
        "# 라이브러리 로드, 데이터 로드, 간단 전처리(특수문자 제거)\n",
        "import nltk\n",
        "import pandas as pd\n",
        "import re\n",
        "from nltk.tokenize import word_tokenize, sent_tokenize\n",
        "from gensim.models import Word2Vec\n",
        "from sklearn.metrics.pairwise import  cosine_similarity\n",
        "from nltk.corpus import stopwords\n",
        "from nltk.stem import WordNetLemmatizer\n",
        "\n",
        "nltk.download('punkt')\n",
        "\n",
        "#데이터 로드. (lematization, 특수문자 전체 제거)\n",
        "df_train = pd.read_csv(\"https://raw.githubusercontent.com/SNMHZ/Drug_Recommendation/master/dataset/3/lem_test.csv\")\n",
        "\n",
        "#nan값 있는지 체크\n",
        "print(df_train.isnull().values.any())\n",
        "df_train = df_train.dropna(how='any')\n",
        "print(df_train.isnull().values.any())\n",
        "\n",
        "#컨디션에서 특수문자(special character) 제거\n",
        "df_train['condition_scdrop']=df_train['condition'].apply(lambda x: re.sub('[^a-zA-Z]',' ',x))"
      ],
      "execution_count": 33,
      "outputs": [
        {
          "output_type": "stream",
          "text": [
            "True\n",
            "False\n"
          ],
          "name": "stdout"
        }
      ]
    },
    {
      "cell_type": "markdown",
      "metadata": {
        "id": "NYK920WAalHr"
      },
      "source": [
        "# 데이터 확인"
      ]
    },
    {
      "cell_type": "code",
      "metadata": {
        "colab": {
          "base_uri": "https://localhost:8080/",
          "height": 898
        },
        "id": "9XAY8knQabi1",
        "outputId": "472fdff7-d732-444e-ac66-0fe117138cb6"
      },
      "source": [
        "#데이터프레임 확인\n",
        "df_train"
      ],
      "execution_count": 34,
      "outputs": [
        {
          "output_type": "execute_result",
          "data": {
            "text/html": [
              "<div>\n",
              "<style scoped>\n",
              "    .dataframe tbody tr th:only-of-type {\n",
              "        vertical-align: middle;\n",
              "    }\n",
              "\n",
              "    .dataframe tbody tr th {\n",
              "        vertical-align: top;\n",
              "    }\n",
              "\n",
              "    .dataframe thead th {\n",
              "        text-align: right;\n",
              "    }\n",
              "</style>\n",
              "<table border=\"1\" class=\"dataframe\">\n",
              "  <thead>\n",
              "    <tr style=\"text-align: right;\">\n",
              "      <th></th>\n",
              "      <th>Unnamed: 0</th>\n",
              "      <th>level_0</th>\n",
              "      <th>uniqueID</th>\n",
              "      <th>drugName</th>\n",
              "      <th>condition</th>\n",
              "      <th>review</th>\n",
              "      <th>rating</th>\n",
              "      <th>date</th>\n",
              "      <th>usefulCount</th>\n",
              "      <th>condition_scdrop</th>\n",
              "    </tr>\n",
              "  </thead>\n",
              "  <tbody>\n",
              "    <tr>\n",
              "      <th>0</th>\n",
              "      <td>0</td>\n",
              "      <td>0</td>\n",
              "      <td>163740</td>\n",
              "      <td>Mirtazapine</td>\n",
              "      <td>Depression</td>\n",
              "      <td>try antidepressant year citalopram fluoxetine ...</td>\n",
              "      <td>10</td>\n",
              "      <td>2012-02-28</td>\n",
              "      <td>22</td>\n",
              "      <td>Depression</td>\n",
              "    </tr>\n",
              "    <tr>\n",
              "      <th>1</th>\n",
              "      <td>1</td>\n",
              "      <td>1</td>\n",
              "      <td>206473</td>\n",
              "      <td>Mesalamine</td>\n",
              "      <td>Crohn's Disease, Maintenance</td>\n",
              "      <td>son crohn 's disease do well asacol complaint ...</td>\n",
              "      <td>8</td>\n",
              "      <td>2009-05-17</td>\n",
              "      <td>17</td>\n",
              "      <td>Crohn s Disease  Maintenance</td>\n",
              "    </tr>\n",
              "    <tr>\n",
              "      <th>2</th>\n",
              "      <td>2</td>\n",
              "      <td>2</td>\n",
              "      <td>159672</td>\n",
              "      <td>Bactrim</td>\n",
              "      <td>Urinary Tract Infection</td>\n",
              "      <td>quick reduction symptom</td>\n",
              "      <td>9</td>\n",
              "      <td>2017-09-29</td>\n",
              "      <td>3</td>\n",
              "      <td>Urinary Tract Infection</td>\n",
              "    </tr>\n",
              "    <tr>\n",
              "      <th>3</th>\n",
              "      <td>3</td>\n",
              "      <td>3</td>\n",
              "      <td>39293</td>\n",
              "      <td>Contrave</td>\n",
              "      <td>Weight Loss</td>\n",
              "      <td>contrave combine drug use alcohol smoking opio...</td>\n",
              "      <td>9</td>\n",
              "      <td>2017-03-05</td>\n",
              "      <td>35</td>\n",
              "      <td>Weight Loss</td>\n",
              "    </tr>\n",
              "    <tr>\n",
              "      <th>4</th>\n",
              "      <td>4</td>\n",
              "      <td>4</td>\n",
              "      <td>97768</td>\n",
              "      <td>Cyclafem 1 / 35</td>\n",
              "      <td>Birth Control</td>\n",
              "      <td>birth control one cycle reading review type si...</td>\n",
              "      <td>9</td>\n",
              "      <td>2015-10-22</td>\n",
              "      <td>4</td>\n",
              "      <td>Birth Control</td>\n",
              "    </tr>\n",
              "    <tr>\n",
              "      <th>...</th>\n",
              "      <td>...</td>\n",
              "      <td>...</td>\n",
              "      <td>...</td>\n",
              "      <td>...</td>\n",
              "      <td>...</td>\n",
              "      <td>...</td>\n",
              "      <td>...</td>\n",
              "      <td>...</td>\n",
              "      <td>...</td>\n",
              "      <td>...</td>\n",
              "    </tr>\n",
              "    <tr>\n",
              "      <th>53195</th>\n",
              "      <td>53195</td>\n",
              "      <td>53466</td>\n",
              "      <td>159999</td>\n",
              "      <td>Tamoxifen</td>\n",
              "      <td>Breast Cancer, Prevention</td>\n",
              "      <td>take tamoxifen year side effect severe sweat d...</td>\n",
              "      <td>10</td>\n",
              "      <td>2014-09-13</td>\n",
              "      <td>43</td>\n",
              "      <td>Breast Cancer  Prevention</td>\n",
              "    </tr>\n",
              "    <tr>\n",
              "      <th>53196</th>\n",
              "      <td>53196</td>\n",
              "      <td>53467</td>\n",
              "      <td>140714</td>\n",
              "      <td>Escitalopram</td>\n",
              "      <td>Anxiety</td>\n",
              "      <td>take lexapro escitaploprgram since february fi...</td>\n",
              "      <td>9</td>\n",
              "      <td>2016-10-08</td>\n",
              "      <td>11</td>\n",
              "      <td>Anxiety</td>\n",
              "    </tr>\n",
              "    <tr>\n",
              "      <th>53197</th>\n",
              "      <td>53197</td>\n",
              "      <td>53468</td>\n",
              "      <td>130945</td>\n",
              "      <td>Levonorgestrel</td>\n",
              "      <td>Birth Control</td>\n",
              "      <td>married year old kid take pill hassle decide g...</td>\n",
              "      <td>8</td>\n",
              "      <td>2010-11-15</td>\n",
              "      <td>7</td>\n",
              "      <td>Birth Control</td>\n",
              "    </tr>\n",
              "    <tr>\n",
              "      <th>53198</th>\n",
              "      <td>53198</td>\n",
              "      <td>53469</td>\n",
              "      <td>47656</td>\n",
              "      <td>Tapentadol</td>\n",
              "      <td>Pain</td>\n",
              "      <td>prescribed nucynta severe neckshoulder pain ta...</td>\n",
              "      <td>1</td>\n",
              "      <td>2011-11-28</td>\n",
              "      <td>20</td>\n",
              "      <td>Pain</td>\n",
              "    </tr>\n",
              "    <tr>\n",
              "      <th>53199</th>\n",
              "      <td>53199</td>\n",
              "      <td>53470</td>\n",
              "      <td>113712</td>\n",
              "      <td>Arthrotec</td>\n",
              "      <td>Sciatica</td>\n",
              "      <td>work</td>\n",
              "      <td>9</td>\n",
              "      <td>2009-09-13</td>\n",
              "      <td>46</td>\n",
              "      <td>Sciatica</td>\n",
              "    </tr>\n",
              "  </tbody>\n",
              "</table>\n",
              "<p>53172 rows × 10 columns</p>\n",
              "</div>"
            ],
            "text/plain": [
              "       Unnamed: 0  level_0  ...  usefulCount              condition_scdrop\n",
              "0               0        0  ...           22                    Depression\n",
              "1               1        1  ...           17  Crohn s Disease  Maintenance\n",
              "2               2        2  ...            3       Urinary Tract Infection\n",
              "3               3        3  ...           35                   Weight Loss\n",
              "4               4        4  ...            4                 Birth Control\n",
              "...           ...      ...  ...          ...                           ...\n",
              "53195       53195    53466  ...           43     Breast Cancer  Prevention\n",
              "53196       53196    53467  ...           11                       Anxiety\n",
              "53197       53197    53468  ...            7                 Birth Control\n",
              "53198       53198    53469  ...           20                          Pain\n",
              "53199       53199    53470  ...           46                      Sciatica\n",
              "\n",
              "[53172 rows x 10 columns]"
            ]
          },
          "metadata": {
            "tags": []
          },
          "execution_count": 34
        }
      ]
    },
    {
      "cell_type": "code",
      "metadata": {
        "id": "_Jpt4WU_H6GY",
        "colab": {
          "base_uri": "https://localhost:8080/"
        },
        "outputId": "704f3a26-37da-434c-ace7-440c883ba755"
      },
      "source": [
        "#2개 리뷰 확인. \n",
        "print(df_train['review'][0])\n",
        "print(df_train['review'][1])"
      ],
      "execution_count": 48,
      "outputs": [
        {
          "output_type": "stream",
          "text": [
            "try antidepressant year citalopram fluoxetine amitriptyline none help depression insomnia anxiety doctor suggest change onto mg mirtazapine medicine save life thankfully side effect especially common weight gain actually lose alot weight still suicidal thought mirtazapine save\n",
            "son crohn 's disease do well asacol complaint show side effect take many nine tablet per day one time happy result reduce bout diarrhea drastically\n"
          ],
          "name": "stdout"
        }
      ]
    },
    {
      "cell_type": "markdown",
      "metadata": {
        "id": "3DMptQGsauo0"
      },
      "source": [
        "# 컨디션 딕셔너리 생성(공백 제거용)"
      ]
    },
    {
      "cell_type": "markdown",
      "metadata": {
        "id": "iP3tDNfka4hE"
      },
      "source": [
        "ex)\n",
        "\n",
        "| original(key) | modified(value) |\n",
        "| ------------- | --------------- |\n",
        "| left ventricular dysfunction | leftventriculardysfunction |\n",
        "| adhd | adhd |\n",
        "| birth control | birthcontrol |"
      ]
    },
    {
      "cell_type": "code",
      "metadata": {
        "id": "bygLY3htGnnf"
      },
      "source": [
        "spaced_condition=pd.read_csv('https://raw.githubusercontent.com/SNMHZ/Drug_Recommendation/master/dataset/spaced_condition.csv', index_col=0)\n",
        "ori_con=spaced_condition['original'].unique()\n",
        "mod_con=spaced_condition['modified'].unique()\n",
        "\n",
        "for i in range(len(ori_con)):\n",
        "    ori_con[i]=re.sub('[^a-zA-Z]',' ',ori_con[i])\n",
        "\n",
        "for i in range(len(mod_con)):\n",
        "    mod_con[i]=re.sub('[^a-zA-Z]',' ',mod_con[i])\n",
        "\n",
        "con_dict={}\n",
        "for i in range(len(mod_con)):\n",
        "    con_dict[ori_con[i]]=mod_con[i]"
      ],
      "execution_count": 36,
      "outputs": []
    },
    {
      "cell_type": "markdown",
      "metadata": {
        "id": "fzLyt0BMgflX"
      },
      "source": [
        "# 학습을 위한 토큰 생성 (리뷰단위)"
      ]
    },
    {
      "cell_type": "code",
      "metadata": {
        "id": "XcJ-Ogr3UB8U"
      },
      "source": [
        "#각 리뷰마다 토큰으로 활용\n",
        "tokenize_data = [word_tokenize(sentence) for sentence in df_train['review']]"
      ],
      "execution_count": 37,
      "outputs": []
    },
    {
      "cell_type": "code",
      "metadata": {
        "colab": {
          "base_uri": "https://localhost:8080/"
        },
        "id": "-RhcTiq3bufI",
        "outputId": "1814b7cb-76b3-4241-a95d-e74d0a298213"
      },
      "source": [
        "#토큰 확인\n",
        "print(tokenize_data[0])\n",
        "print(tokenize_data[1])"
      ],
      "execution_count": 38,
      "outputs": [
        {
          "output_type": "stream",
          "text": [
            "['try', 'antidepressant', 'year', 'citalopram', 'fluoxetine', 'amitriptyline', 'none', 'help', 'depression', 'insomnia', 'anxiety', 'doctor', 'suggest', 'change', 'onto', 'mg', 'mirtazapine', 'medicine', 'save', 'life', 'thankfully', 'side', 'effect', 'especially', 'common', 'weight', 'gain', 'actually', 'lose', 'alot', 'weight', 'still', 'suicidal', 'thought', 'mirtazapine', 'save']\n",
            "['son', 'crohn', \"'s\", 'disease', 'do', 'well', 'asacol', 'complaint', 'show', 'side', 'effect', 'take', 'many', 'nine', 'tablet', 'per', 'day', 'one', 'time', 'happy', 'result', 'reduce', 'bout', 'diarrhea', 'drastically']\n"
          ],
          "name": "stdout"
        }
      ]
    },
    {
      "cell_type": "markdown",
      "metadata": {
        "id": "C_LiECj7g2eb"
      },
      "source": [
        "# word2vec 모델 학습"
      ]
    },
    {
      "cell_type": "code",
      "metadata": {
        "id": "ccDwZjiXRNVK"
      },
      "source": [
        "##모델 학습\n",
        "\"\"\"\n",
        "하이퍼 파라미터\n",
        "size : 300\n",
        "window : 5\n",
        "min_count : 5\n",
        "workers : 4\n",
        "sg : 0\n",
        "\"\"\"\n",
        "model = Word2Vec(sentences= tokenize_data, size=300, window=5, min_count=5, workers=4, sg=0)"
      ],
      "execution_count": 39,
      "outputs": []
    },
    {
      "cell_type": "code",
      "metadata": {
        "id": "YTr3ABh3hVRp"
      },
      "source": [
        "model.save(\"reviewunit.model\")"
      ],
      "execution_count": 49,
      "outputs": []
    },
    {
      "cell_type": "markdown",
      "metadata": {
        "id": "JAXhBr5ahSdW"
      },
      "source": [
        "# 모델 테스트"
      ]
    },
    {
      "cell_type": "code",
      "metadata": {
        "id": "TOpYA1WOe8K7",
        "colab": {
          "base_uri": "https://localhost:8080/"
        },
        "outputId": "2352d681-28ee-49fb-8cfd-0e54747383ba"
      },
      "source": [
        "#학습된 word2vec모델 테스트\n",
        "print(type(model.wv.vectors))  #모델 weights table\n",
        "print(model.wv.get_vector('side'))\n",
        "print(model.wv.get_vector('side').shape)"
      ],
      "execution_count": 43,
      "outputs": [
        {
          "output_type": "stream",
          "text": [
            "<class 'numpy.ndarray'>\n",
            "[ 9.8201409e-02 -7.9777676e-01 -9.9643636e-01  1.5658544e+00\n",
            "  1.6253623e+00 -8.1366825e-01  1.3394305e+00  1.3516600e+00\n",
            " -1.4351281e+00 -1.2797773e+00  1.9919756e-01 -8.4513271e-01\n",
            "  5.8099866e-01  7.5499415e-02  2.0045714e+00  2.7587742e-01\n",
            " -4.9577966e-01  1.1168567e+00 -5.4723090e-01 -8.5726339e-01\n",
            " -1.4280276e-01  4.9019989e-01 -9.3238622e-01 -2.3033838e-01\n",
            "  8.9625353e-01 -1.1134421e+00 -8.1651849e-01 -1.3427712e+00\n",
            "  6.9832325e-01  5.9170914e-01  5.2460372e-01 -4.8411572e-01\n",
            "  2.1508366e-01 -5.0861454e-01 -5.6738061e-01 -1.6511693e+00\n",
            "  1.1079187e+00 -7.7671617e-01 -2.3573220e-01 -1.5581998e+00\n",
            "  2.8272590e-01 -4.1950801e-01  8.9612281e-01 -1.8800481e-01\n",
            " -8.6894161e-01  6.3074791e-01  6.1592913e-01 -1.0326896e+00\n",
            "  4.0035239e-01 -3.2331330e-01  3.0972663e-01  1.5684550e+00\n",
            " -2.1330318e+00 -1.3289324e+00  1.1481117e+00 -9.0026295e-01\n",
            "  8.5818672e-01 -1.4753361e+00 -9.7495514e-01 -6.2327373e-01\n",
            "  7.8418016e-02 -7.9003781e-02  1.6765706e-01  7.7329534e-01\n",
            " -1.1796219e+00 -1.5524787e+00  2.1589674e-01  8.0639523e-01\n",
            " -2.3415211e-01 -1.3641577e+00  3.8176468e-01  9.6090060e-01\n",
            "  6.6986695e-02  4.6105775e-01 -9.4402558e-01  3.9997104e-01\n",
            " -7.3508114e-01  3.9564195e-01 -7.1738088e-01 -1.4185296e+00\n",
            " -7.3454052e-01  3.4679687e-01  5.7348400e-01 -2.7600569e-01\n",
            "  8.6970881e-02 -3.7915650e-01 -1.1400360e-01 -6.7404842e-01\n",
            " -3.7955216e-01  1.1129152e+00  1.3134599e+00 -1.2215916e+00\n",
            " -1.4428674e+00  2.8543553e-01  1.2076494e+00  7.5528055e-01\n",
            " -5.1713741e-01  8.5567230e-01  3.8378039e-01  2.1076562e-01\n",
            " -1.0452031e+00 -4.9617675e-01  2.3235364e-01  8.5903436e-01\n",
            "  8.3678275e-01  1.1987199e-01 -4.5204431e-01  7.2554305e-02\n",
            "  6.5267462e-01 -3.2591072e-01 -1.9733347e-01  2.5884205e-01\n",
            "  1.5322527e-01 -1.3713010e-01 -1.0019935e+00  5.8387709e-01\n",
            " -3.4204957e-01  5.6727159e-01 -5.4896802e-01  5.7137638e-02\n",
            " -4.8316357e-01 -1.8167207e+00 -2.1130341e-01 -8.1262589e-01\n",
            "  4.0200764e-01  1.1429346e+00 -1.0057456e+00 -5.9400004e-01\n",
            " -2.7062792e-01  1.7185333e-01  9.5008469e-01  4.2172173e-01\n",
            "  1.4127513e+00  1.4917537e+00  2.6174769e-01 -7.0980257e-01\n",
            " -8.5061055e-01  5.0403064e-01 -1.6350948e+00 -5.1792669e-01\n",
            " -6.5054363e-01 -8.5798889e-01  5.7036293e-01 -1.2712833e-01\n",
            "  1.4379280e+00 -7.5007886e-01 -5.4310477e-01 -2.0221500e-01\n",
            " -5.7304972e-01 -7.6981968e-01  8.2239932e-01 -1.1534235e+00\n",
            " -1.1521960e+00  5.4563910e-01  5.4529750e-01  6.8826783e-01\n",
            "  9.7618634e-01 -7.3926520e-01  1.1835876e+00 -1.2622172e+00\n",
            " -5.4944968e-01 -5.6333220e-01 -7.3302585e-01 -7.7780569e-01\n",
            " -1.3704295e+00 -4.8514479e-01 -2.0324907e-01  3.2313398e-01\n",
            "  7.3451298e-01  5.5647951e-01  7.1166575e-01  1.3475604e+00\n",
            " -1.9663462e-01 -2.4619134e-01 -3.8914737e-01 -9.5904559e-01\n",
            " -1.0047904e+00 -9.6303016e-01 -8.4148461e-01 -2.9323828e-01\n",
            " -1.4286318e+00 -1.0497881e+00  2.7900121e-01  8.0203629e-01\n",
            "  4.4442159e-01 -1.4205286e-01 -1.2723020e+00  8.6795938e-01\n",
            " -6.5243578e-01  1.3126823e-01 -5.8763278e-01 -3.9095756e-02\n",
            " -3.1191343e-01 -3.3540422e-01 -1.7875055e-02  6.5629792e-01\n",
            "  4.1205001e-01  1.1714048e-01  8.4103513e-01 -3.9301705e-02\n",
            "  5.8965940e-02  1.1666126e-01  4.6159306e-01  2.0168795e-01\n",
            "  1.2632649e+00 -1.3509487e-01  2.6768836e-01  2.1254261e-01\n",
            " -2.6908205e-04  3.4644520e-01  2.9633436e-01 -4.7292504e-01\n",
            " -4.6932825e-01  8.8199550e-01 -3.2525888e-01 -1.5165938e+00\n",
            "  4.2628571e-01 -1.0314251e+00 -9.6782488e-01  2.9442242e-01\n",
            " -3.1431946e-01  4.0021113e-01 -5.3566766e-01  8.5249132e-01\n",
            " -6.6494924e-01 -9.3190289e-01  3.5061672e-02  3.9913762e-01\n",
            " -1.0613331e+00 -4.7818795e-01  1.2738075e+00 -8.8288194e-01\n",
            " -2.9827732e-01  2.2916286e-01 -5.3863263e-01 -5.3356141e-01\n",
            " -1.0444031e+00  1.4068633e+00  3.1160432e-01  5.3992170e-01\n",
            " -1.1289740e+00 -1.3437076e+00 -6.8021023e-01 -1.0830017e+00\n",
            "  7.6265675e-01  2.0612010e-01 -1.8375268e+00  1.7639735e+00\n",
            " -3.3508757e-01  9.2233479e-01  1.2244897e+00 -8.8896513e-01\n",
            "  5.4873997e-01 -1.1748852e+00  1.1451581e+00  1.4189276e+00\n",
            " -4.6099788e-01 -5.6622165e-01  1.2573458e+00  1.9553231e-01\n",
            " -5.4451412e-01 -2.2906558e-01 -2.2444955e-01 -1.1762586e-01\n",
            "  2.9090136e-01 -5.5469155e-01 -8.2616270e-01 -7.2639000e-01\n",
            "  7.2630435e-01 -8.3976334e-01 -6.2239641e-01  1.1913105e+00\n",
            "  1.8201637e+00  4.3727261e-01  4.0221548e-01 -3.5458523e-01\n",
            "  2.2836675e-01  8.7706387e-01 -1.6144427e-02 -5.0902230e-01\n",
            "  7.1779245e-01  1.3350648e+00  3.8686663e-01 -8.2895094e-01\n",
            "  6.1831379e-01 -7.3695642e-01  3.7914911e-01  2.3293385e-01\n",
            " -1.1861256e+00 -6.9387841e-01 -1.2440664e+00  1.0598738e+00\n",
            "  6.3655239e-01  5.9195232e-01  1.7095194e+00  2.2432083e-02\n",
            "  1.3583411e+00 -7.9811436e-01  6.9300580e-01  1.0287800e+00]\n",
            "(300,)\n"
          ],
          "name": "stdout"
        }
      ]
    },
    {
      "cell_type": "code",
      "metadata": {
        "id": "V1_lkSR6PHel",
        "colab": {
          "base_uri": "https://localhost:8080/"
        },
        "outputId": "5e184cd1-0771-46e8-ab8c-f8cb64647681"
      },
      "source": [
        "print(len(df_train['condition_scdrop'].unique()))"
      ],
      "execution_count": 47,
      "outputs": [
        {
          "output_type": "stream",
          "text": [
            "663\n"
          ],
          "name": "stdout"
        }
      ]
    }
  ]
}