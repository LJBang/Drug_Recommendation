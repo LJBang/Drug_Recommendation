{
  "nbformat": 4,
  "nbformat_minor": 0,
  "metadata": {
    "colab": {
      "name": "문장단위word2vec생성.ipynb",
      "provenance": [],
      "collapsed_sections": []
    },
    "kernelspec": {
      "name": "python3",
      "display_name": "Python 3"
    },
    "language_info": {
      "name": "python"
    }
  },
  "cells": [
    {
      "cell_type": "markdown",
      "metadata": {
        "id": "s9NcMp_Walwv"
      },
      "source": [
        "# 작업환경 생성"
      ]
    },
    {
      "cell_type": "code",
      "metadata": {
        "id": "Gq-c6jcIeXW3",
        "colab": {
          "base_uri": "https://localhost:8080/"
        },
        "outputId": "5496b45f-88a5-44fe-c6ec-5b53220273d4"
      },
      "source": [
        "# 라이브러리 로드, 데이터 로드, 간단 전처리(특수문자 제거)\n",
        "import nltk\n",
        "import pandas as pd\n",
        "import re\n",
        "from nltk.tokenize import word_tokenize, sent_tokenize\n",
        "from gensim.models import Word2Vec\n",
        "from sklearn.metrics.pairwise import  cosine_similarity\n",
        "from nltk.corpus import stopwords\n",
        "from nltk.stem import WordNetLemmatizer\n",
        "\n",
        "nltk.download('punkt')\n",
        "\n",
        "#데이터 로드. (lematization, . ! ? 남긴 것)\n",
        "df_train = pd.read_excel(\"https://raw.githubusercontent.com/SNMHZ/Drug_Recommendation/master/dataset/5/lem_test2.xlsx\")\n",
        "\n",
        "#nan값 있는지 체크\n",
        "print(df_train.isnull().values.any())\n",
        "df_train = df_train.dropna(how='any')\n",
        "print(df_train.isnull().values.any())\n",
        "\n",
        "#컨디션에서 특수문자(special character) 제거\n",
        "df_train['condition_scdrop']=df_train['condition'].apply(lambda x: re.sub('[^a-zA-Z]',' ',x))"
      ],
      "execution_count": 7,
      "outputs": [
        {
          "output_type": "stream",
          "text": [
            "[nltk_data] Downloading package punkt to /root/nltk_data...\n",
            "[nltk_data]   Unzipping tokenizers/punkt.zip.\n",
            "False\n",
            "False\n"
          ],
          "name": "stdout"
        }
      ]
    },
    {
      "cell_type": "markdown",
      "metadata": {
        "id": "NYK920WAalHr"
      },
      "source": [
        "# 데이터 확인"
      ]
    },
    {
      "cell_type": "code",
      "metadata": {
        "colab": {
          "base_uri": "https://localhost:8080/",
          "height": 776
        },
        "id": "9XAY8knQabi1",
        "outputId": "b9d5f19e-5c3e-4f61-f4d6-b9118c28a950"
      },
      "source": [
        "#데이터프레임 확인\n",
        "df_train"
      ],
      "execution_count": 3,
      "outputs": [
        {
          "output_type": "execute_result",
          "data": {
            "text/html": [
              "<div>\n",
              "<style scoped>\n",
              "    .dataframe tbody tr th:only-of-type {\n",
              "        vertical-align: middle;\n",
              "    }\n",
              "\n",
              "    .dataframe tbody tr th {\n",
              "        vertical-align: top;\n",
              "    }\n",
              "\n",
              "    .dataframe thead th {\n",
              "        text-align: right;\n",
              "    }\n",
              "</style>\n",
              "<table border=\"1\" class=\"dataframe\">\n",
              "  <thead>\n",
              "    <tr style=\"text-align: right;\">\n",
              "      <th></th>\n",
              "      <th>Unnamed: 0</th>\n",
              "      <th>drugName</th>\n",
              "      <th>condition</th>\n",
              "      <th>rating</th>\n",
              "      <th>usefulCount</th>\n",
              "      <th>date</th>\n",
              "      <th>review</th>\n",
              "      <th>condition_scdrop</th>\n",
              "    </tr>\n",
              "  </thead>\n",
              "  <tbody>\n",
              "    <tr>\n",
              "      <th>0</th>\n",
              "      <td>0</td>\n",
              "      <td>Mirtazapine</td>\n",
              "      <td>depression</td>\n",
              "      <td>10</td>\n",
              "      <td>22</td>\n",
              "      <td>28-Feb-12</td>\n",
              "      <td>try antidepressant year citalopram fluoxetine ...</td>\n",
              "      <td>depression</td>\n",
              "    </tr>\n",
              "    <tr>\n",
              "      <th>1</th>\n",
              "      <td>1</td>\n",
              "      <td>Mesalamine</td>\n",
              "      <td>crohnsdisease  maintenance</td>\n",
              "      <td>8</td>\n",
              "      <td>17</td>\n",
              "      <td>17-May-09</td>\n",
              "      <td>son crohn disease well asacol . complaint show...</td>\n",
              "      <td>crohnsdisease  maintenance</td>\n",
              "    </tr>\n",
              "    <tr>\n",
              "      <th>2</th>\n",
              "      <td>2</td>\n",
              "      <td>Bactrim</td>\n",
              "      <td>urinarytractinfection</td>\n",
              "      <td>9</td>\n",
              "      <td>3</td>\n",
              "      <td>29-Sep-17</td>\n",
              "      <td>quick reduction symptom</td>\n",
              "      <td>urinarytractinfection</td>\n",
              "    </tr>\n",
              "    <tr>\n",
              "      <th>3</th>\n",
              "      <td>3</td>\n",
              "      <td>Contrave</td>\n",
              "      <td>weightloss</td>\n",
              "      <td>9</td>\n",
              "      <td>35</td>\n",
              "      <td>5-Mar-17</td>\n",
              "      <td>contrave combine drug use alcohol smoking opio...</td>\n",
              "      <td>weightloss</td>\n",
              "    </tr>\n",
              "    <tr>\n",
              "      <th>4</th>\n",
              "      <td>4</td>\n",
              "      <td>Cyclafem 1 / 35</td>\n",
              "      <td>birthcontrol</td>\n",
              "      <td>9</td>\n",
              "      <td>4</td>\n",
              "      <td>22-Oct-15</td>\n",
              "      <td>birthcontrol one cycle . reading review type s...</td>\n",
              "      <td>birthcontrol</td>\n",
              "    </tr>\n",
              "    <tr>\n",
              "      <th>...</th>\n",
              "      <td>...</td>\n",
              "      <td>...</td>\n",
              "      <td>...</td>\n",
              "      <td>...</td>\n",
              "      <td>...</td>\n",
              "      <td>...</td>\n",
              "      <td>...</td>\n",
              "      <td>...</td>\n",
              "    </tr>\n",
              "    <tr>\n",
              "      <th>53466</th>\n",
              "      <td>53761</td>\n",
              "      <td>Tamoxifen</td>\n",
              "      <td>breastcancer  prevention</td>\n",
              "      <td>10</td>\n",
              "      <td>43</td>\n",
              "      <td>13-Sep-14</td>\n",
              "      <td>take tamoxifen year . side effect severe sweat...</td>\n",
              "      <td>breastcancer  prevention</td>\n",
              "    </tr>\n",
              "    <tr>\n",
              "      <th>53467</th>\n",
              "      <td>53762</td>\n",
              "      <td>Escitalopram</td>\n",
              "      <td>anxiety</td>\n",
              "      <td>9</td>\n",
              "      <td>11</td>\n",
              "      <td>8-Oct-16</td>\n",
              "      <td>take lexapro escitaploprgram since february . ...</td>\n",
              "      <td>anxiety</td>\n",
              "    </tr>\n",
              "    <tr>\n",
              "      <th>53468</th>\n",
              "      <td>53763</td>\n",
              "      <td>Levonorgestrel</td>\n",
              "      <td>birthcontrol</td>\n",
              "      <td>8</td>\n",
              "      <td>7</td>\n",
              "      <td>15-Nov-10</td>\n",
              "      <td>married year old kid . take pill hassle decide...</td>\n",
              "      <td>birthcontrol</td>\n",
              "    </tr>\n",
              "    <tr>\n",
              "      <th>53469</th>\n",
              "      <td>53764</td>\n",
              "      <td>Tapentadol</td>\n",
              "      <td>pain</td>\n",
              "      <td>1</td>\n",
              "      <td>20</td>\n",
              "      <td>28-Nov-11</td>\n",
              "      <td>prescribed nucynta severe neck shoulder pain ....</td>\n",
              "      <td>pain</td>\n",
              "    </tr>\n",
              "    <tr>\n",
              "      <th>53470</th>\n",
              "      <td>53765</td>\n",
              "      <td>Arthrotec</td>\n",
              "      <td>sciatica</td>\n",
              "      <td>9</td>\n",
              "      <td>46</td>\n",
              "      <td>13-Sep-09</td>\n",
              "      <td>work ! ! !</td>\n",
              "      <td>sciatica</td>\n",
              "    </tr>\n",
              "  </tbody>\n",
              "</table>\n",
              "<p>53471 rows × 8 columns</p>\n",
              "</div>"
            ],
            "text/plain": [
              "       Unnamed: 0  ...            condition_scdrop\n",
              "0               0  ...                  depression\n",
              "1               1  ...  crohnsdisease  maintenance\n",
              "2               2  ...       urinarytractinfection\n",
              "3               3  ...                  weightloss\n",
              "4               4  ...                birthcontrol\n",
              "...           ...  ...                         ...\n",
              "53466       53761  ...    breastcancer  prevention\n",
              "53467       53762  ...                     anxiety\n",
              "53468       53763  ...                birthcontrol\n",
              "53469       53764  ...                        pain\n",
              "53470       53765  ...                    sciatica\n",
              "\n",
              "[53471 rows x 8 columns]"
            ]
          },
          "metadata": {
            "tags": []
          },
          "execution_count": 3
        }
      ]
    },
    {
      "cell_type": "code",
      "metadata": {
        "id": "_Jpt4WU_H6GY",
        "colab": {
          "base_uri": "https://localhost:8080/"
        },
        "outputId": "f43497a5-f869-4f34-9e01-a4db0102cd12"
      },
      "source": [
        "#2개 문장 확인. \n",
        "print(df_train['review'][0])\n",
        "print(df_train['review'][1])"
      ],
      "execution_count": 4,
      "outputs": [
        {
          "output_type": "stream",
          "text": [
            "try antidepressant year citalopram fluoxetine amitriptyline none help depression insomnia amp anxiety . doctor suggest change onto mg mirtazapine medicine save life . thankfully side effect especially common weight gain actually lose alot weight . still suicidal thought mirtazapine save .\n",
            "son crohn disease well asacol . complaint show side effect . take many nine tablet per day one time . happy result reduce bout diarrhea drastically .\n"
          ],
          "name": "stdout"
        }
      ]
    },
    {
      "cell_type": "markdown",
      "metadata": {
        "id": "3DMptQGsauo0"
      },
      "source": [
        "# 컨디션 딕셔너리 생성(공백 제거용)"
      ]
    },
    {
      "cell_type": "markdown",
      "metadata": {
        "id": "iP3tDNfka4hE"
      },
      "source": [
        "ex)\n",
        "\n",
        "| original(key) | modified(value) |\n",
        "| ------------- | --------------- |\n",
        "| left ventricular dysfunction | leftventriculardysfunction |\n",
        "| adhd | adhd |\n",
        "| birth control | birthcontrol |"
      ]
    },
    {
      "cell_type": "code",
      "metadata": {
        "id": "bygLY3htGnnf"
      },
      "source": [
        "spaced_condition=pd.read_csv('https://raw.githubusercontent.com/SNMHZ/Drug_Recommendation/master/dataset/spaced_condition.csv', index_col=0)\n",
        "ori_con=spaced_condition['original'].unique()\n",
        "mod_con=spaced_condition['modified'].unique()\n",
        "\n",
        "for i in range(len(ori_con)):\n",
        "    ori_con[i]=re.sub('[^a-zA-Z]',' ',ori_con[i])\n",
        "\n",
        "for i in range(len(mod_con)):\n",
        "    mod_con[i]=re.sub('[^a-zA-Z]',' ',mod_con[i])\n",
        "\n",
        "con_dict={}\n",
        "for i in range(len(mod_con)):\n",
        "    con_dict[ori_con[i]]=mod_con[i]"
      ],
      "execution_count": 5,
      "outputs": []
    },
    {
      "cell_type": "markdown",
      "metadata": {
        "id": "8Mqr1AivjLlN"
      },
      "source": [
        "# 학습을 위한 토큰 생성 (문장단위)"
      ]
    },
    {
      "cell_type": "code",
      "metadata": {
        "id": "_a8IE2wwr0wp"
      },
      "source": [
        "conditions = []\n",
        "reviews = []\n",
        "# review split\n",
        "for i in range(0, len(df_train)):\n",
        "  sentences = re.split('[.!?]', str(df_train.loc[i, 'review']))\n",
        "  sentences = list(map(lambda x: x.strip(), sentences))\n",
        "  sentences = list(filter(lambda x: x != '', sentences))\n",
        "# make list for making new dataframe(this dataframe uses word2vec model)\n",
        "  for sentence in sentences:\n",
        "    conditions.append(df_train.loc[i, 'condition'])\n",
        "    reviews.append(sentence)"
      ],
      "execution_count": 26,
      "outputs": []
    },
    {
      "cell_type": "code",
      "metadata": {
        "colab": {
          "base_uri": "https://localhost:8080/"
        },
        "id": "O5tirin8sNIW",
        "outputId": "70118e57-5dc2-4605-918f-ec861990c9af"
      },
      "source": [
        "reviews[:5]"
      ],
      "execution_count": 29,
      "outputs": [
        {
          "output_type": "execute_result",
          "data": {
            "text/plain": [
              "['try antidepressant year citalopram fluoxetine amitriptyline none help depression insomnia amp anxiety',\n",
              " 'doctor suggest change onto mg mirtazapine medicine save life',\n",
              " 'thankfully side effect especially common weight gain actually lose alot weight',\n",
              " 'still suicidal thought mirtazapine save',\n",
              " 'son crohn disease well asacol']"
            ]
          },
          "metadata": {
            "tags": []
          },
          "execution_count": 29
        }
      ]
    },
    {
      "cell_type": "code",
      "metadata": {
        "id": "qZWd_8ehpBug"
      },
      "source": [
        "tokenize_data = [word_tokenize(str(sentence)) for sentence in reviews]"
      ],
      "execution_count": 34,
      "outputs": []
    },
    {
      "cell_type": "code",
      "metadata": {
        "colab": {
          "base_uri": "https://localhost:8080/"
        },
        "id": "-RhcTiq3bufI",
        "outputId": "9f825e1f-6fab-42b1-fe70-643a8227b9c4"
      },
      "source": [
        "#토큰 확인\n",
        "print(tokenize_data[0])\n",
        "print(tokenize_data[1])\n",
        "print(tokenize_data[2])\n",
        "print(tokenize_data[3])"
      ],
      "execution_count": 36,
      "outputs": [
        {
          "output_type": "stream",
          "text": [
            "['try', 'antidepressant', 'year', 'citalopram', 'fluoxetine', 'amitriptyline', 'none', 'help', 'depression', 'insomnia', 'amp', 'anxiety']\n",
            "['doctor', 'suggest', 'change', 'onto', 'mg', 'mirtazapine', 'medicine', 'save', 'life']\n",
            "['thankfully', 'side', 'effect', 'especially', 'common', 'weight', 'gain', 'actually', 'lose', 'alot', 'weight']\n",
            "['still', 'suicidal', 'thought', 'mirtazapine', 'save']\n"
          ],
          "name": "stdout"
        }
      ]
    },
    {
      "cell_type": "markdown",
      "metadata": {
        "id": "CxsDMCKEjRQi"
      },
      "source": [
        "# word2vec 모델 학습"
      ]
    },
    {
      "cell_type": "code",
      "metadata": {
        "id": "KTN_1sd8sxtC"
      },
      "source": [
        "##모델 학습\n",
        "\"\"\"\n",
        "하이퍼 파라미터\n",
        "size : 300\n",
        "window : 1\n",
        "min_count : 5\n",
        "workers : 4\n",
        "method : CBOW\n",
        "\"\"\"\n",
        "model = Word2Vec(sentences= tokenize_data, size=300, window=1, min_count=5, workers=4, sg=0)"
      ],
      "execution_count": 38,
      "outputs": []
    },
    {
      "cell_type": "code",
      "metadata": {
        "id": "T3rLtt-Bt5fc"
      },
      "source": [
        "model.save(\"sentenceunit_word2vec.model\")"
      ],
      "execution_count": 41,
      "outputs": []
    },
    {
      "cell_type": "markdown",
      "metadata": {
        "id": "JAXhBr5ahSdW"
      },
      "source": [
        "# 모델 테스트"
      ]
    },
    {
      "cell_type": "code",
      "metadata": {
        "id": "TOpYA1WOe8K7",
        "colab": {
          "base_uri": "https://localhost:8080/"
        },
        "outputId": "415caef1-81c4-4c94-85e6-1a4e137c9c27"
      },
      "source": [
        "#학습된 word2vec모델 테스트\n",
        "print(type(model.wv.vectors))  #모델 weights table\n",
        "print(model.wv.get_vector('side'))\n",
        "print(model.wv.get_vector('side').shape)"
      ],
      "execution_count": 39,
      "outputs": [
        {
          "output_type": "stream",
          "text": [
            "<class 'numpy.ndarray'>\n",
            "[-0.24337502  0.24363759 -0.62050337  0.41842476 -0.18864296  0.05832148\n",
            " -0.06537849 -0.40217784  0.27395988 -0.59621465  0.59413    -0.33019018\n",
            "  0.21194983  0.3297442   0.26731834  0.5171175   0.0330053  -0.07013391\n",
            " -0.11489046 -0.21973899 -0.19822662  0.5882281   0.708226    0.00567076\n",
            "  0.840377    0.35381705 -0.47228533 -0.17680347 -0.0681436   0.15785968\n",
            " -0.02721927 -0.06609593 -0.02157627  0.26744103 -0.21293879  0.3938433\n",
            " -0.22570412  0.08792445  0.13458575 -0.16374373 -0.5448308  -0.7370706\n",
            " -0.11973938  0.22129293  0.4719627  -0.26281756 -0.17542244 -0.3515445\n",
            "  0.0535651  -0.5179774  -0.30915862  0.16798405  0.04894041  0.09144904\n",
            "  0.47989917  0.4735117   0.24267711  0.15603589  0.2891011   0.27979696\n",
            "  0.51095015  0.42722246  0.9438565  -0.5384825   0.3521773   0.15593289\n",
            "  0.03171682 -1.0003289   0.6993823  -0.6974573   0.02633422 -0.013568\n",
            "  0.6026725   0.28296342 -0.3633771   0.37176648  0.10274269 -0.2434606\n",
            "  0.46594778 -1.1135343   0.19968311 -0.12678531  0.07489391 -0.5237568\n",
            " -0.14927979 -0.00688649 -0.6469731   0.19989891  0.44993204 -0.1887284\n",
            "  0.68201286  0.20458418 -0.07061934  0.21107376  0.26292682  0.47418106\n",
            " -0.45973796  0.38676018 -0.44328725  0.621853    0.22799224  0.4054992\n",
            " -0.05574265  0.34273735 -0.05045559  0.22730415 -0.3195151   0.72967887\n",
            "  0.34755594  0.6265388   0.00269818 -0.48945746 -0.5896702   0.11965522\n",
            " -0.5569565   0.6985303   0.00309507 -0.3366235   0.6077668   0.19220537\n",
            "  0.2562684   0.51820874 -0.24599864 -0.48467016  0.24918433  0.23851913\n",
            " -0.07500938  0.19153748  0.3402991   0.4639852  -0.57757443  0.2550737\n",
            " -0.61787874  0.17969504 -0.41276047 -0.08484071 -0.09710043  0.18160984\n",
            " -0.0448112  -0.08617241 -0.37207818  0.33750325 -0.32080334  0.13057107\n",
            " -0.21871844  0.55385095 -0.5449333  -0.06338796 -0.12923692  0.40178406\n",
            "  0.7837473  -0.5835021   0.59483105  0.01712953  0.12489479  0.5091177\n",
            " -0.49546215  0.69252884 -0.09050467 -0.6451438  -0.39246514  0.24443194\n",
            "  0.49995697  0.05521067 -0.25287592 -0.07347859  0.5912238   1.1236933\n",
            " -0.2824074  -0.97405726  0.26764324 -0.32031924  0.19553642  0.07443145\n",
            "  0.19485131  0.6704339  -0.09828232  0.0280414  -0.47681192 -0.16028804\n",
            "  0.03967766 -0.43990058 -0.20284833 -0.8848016  -0.55424917  0.16577147\n",
            "  0.17916428 -0.5153052  -0.3553275   0.01922007  0.08656192 -0.29088327\n",
            " -0.13172157  0.18135586 -0.16721697 -0.13435873  0.48443592 -0.4525475\n",
            " -0.06173974 -0.48260683  0.4374117   0.5305734   0.25794512 -0.6265702\n",
            "  0.17271373 -0.0043311   0.3895503  -0.43798888 -0.07180316  0.38128772\n",
            " -0.19739285 -0.01715648 -0.76250774 -0.9771848   0.36593708 -0.29261127\n",
            " -0.19893998  0.21567902  0.08856007  0.35976553 -0.04632381 -0.35827714\n",
            " -0.5680846   0.10082382 -0.23136938 -0.12896478 -0.09761903 -0.25779504\n",
            "  0.07710288  0.3356855  -0.18863478  0.07586251 -0.28953937  0.1083685\n",
            "  0.48033664  0.12653977 -0.33101523  1.1444263  -0.3095473   0.15275423\n",
            "  0.3211989  -0.1869498  -0.03217215  0.28167784 -1.1837373   0.23777743\n",
            "  0.28568503 -0.6002634   0.07775222 -0.45282274  0.04903456  0.02498676\n",
            "  0.1753683   1.0184021   0.2663126  -0.33017904 -0.10730838  0.06550924\n",
            "  0.31011412 -0.26843995  0.0451014  -0.6170754  -0.17285678  0.3222329\n",
            "  0.16471684  0.18949519 -0.20621705  0.571012    0.44569865  0.00744263\n",
            " -0.08166605 -0.19286335  0.0486556   0.03703326 -0.2734841  -0.19784658\n",
            "  0.18478782 -0.14975864 -0.14135951 -0.37276852 -0.30791843 -0.6858911\n",
            "  0.35957858 -0.49353966  0.47783977 -0.9366928  -0.7180464  -0.07331432\n",
            "  0.20399223  0.1925679  -0.80561787  0.09656783  0.04174113 -0.19453606\n",
            " -0.04003135 -0.10316584  0.35993174  0.08295397 -0.22970882  0.04424645]\n",
            "(300,)\n"
          ],
          "name": "stdout"
        }
      ]
    },
    {
      "cell_type": "code",
      "metadata": {
        "id": "V1_lkSR6PHel",
        "colab": {
          "base_uri": "https://localhost:8080/"
        },
        "outputId": "18da0c2f-5391-4b3e-deb1-9fe74d848f83"
      },
      "source": [
        "print(len(df_train['condition_scdrop'].unique()))"
      ],
      "execution_count": 40,
      "outputs": [
        {
          "output_type": "stream",
          "text": [
            "666\n"
          ],
          "name": "stdout"
        }
      ]
    }
  ]
}