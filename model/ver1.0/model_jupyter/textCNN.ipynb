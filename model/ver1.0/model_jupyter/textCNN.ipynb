{
  "nbformat": 4,
  "nbformat_minor": 0,
  "metadata": {
    "colab": {
      "name": "textCNN.ipynb",
      "provenance": []
    },
    "kernelspec": {
      "name": "python3",
      "display_name": "Python 3"
    },
    "language_info": {
      "name": "python"
    },
    "accelerator": "GPU"
  },
  "cells": [
    {
      "cell_type": "markdown",
      "metadata": {
        "id": "APZSluvdT1DJ"
      },
      "source": [
        "# 전처리"
      ]
    },
    {
      "cell_type": "code",
      "metadata": {
        "id": "nriAI1mf11T9"
      },
      "source": [
        "import numpy as np\n",
        "import pandas as pd\n",
        "from gensim.models import Word2Vec\n",
        "from nltk.tokenize import word_tokenize\n",
        "import torch\n",
        "import torch.nn as nn\n",
        "import torch.nn.functional as F\n",
        "from torch.utils.data import TensorDataset, DataLoader"
      ],
      "execution_count": 1,
      "outputs": []
    },
    {
      "cell_type": "code",
      "metadata": {
        "id": "ciK2KNZVXNHK"
      },
      "source": [
        "import re"
      ],
      "execution_count": 2,
      "outputs": []
    },
    {
      "cell_type": "code",
      "metadata": {
        "id": "im8doc_wUScU"
      },
      "source": [
        "df_train = pd.read_excel(\"https://raw.githubusercontent.com/SNMHZ/Drug_Recommendation/master/dataset/5/lem_train2.xlsx\")\n",
        "df_test = pd.read_excel(\"https://raw.githubusercontent.com/SNMHZ/Drug_Recommendation/master/dataset/5/lem_test2.xlsx\")"
      ],
      "execution_count": 3,
      "outputs": []
    },
    {
      "cell_type": "code",
      "metadata": {
        "id": "ODytraJQUU6s"
      },
      "source": [
        "df_train = df_train.drop(['Unnamed: 0', 'level_0'], axis=1)\n",
        "df_test = df_test.drop(['Unnamed: 0', 'level_0'], axis=1)\n",
        "\n",
        "df_train = df_train.dropna(how='any').reset_index()\n",
        "df_test = df_test.dropna(how='any').reset_index()"
      ],
      "execution_count": 4,
      "outputs": []
    },
    {
      "cell_type": "code",
      "metadata": {
        "colab": {
          "base_uri": "https://localhost:8080/",
          "height": 419
        },
        "id": "onj4Zu2NToNh",
        "outputId": "e7a8d2b4-1ff7-473b-ec85-b18f8ad79deb"
      },
      "source": [
        "df_train"
      ],
      "execution_count": 5,
      "outputs": [
        {
          "output_type": "execute_result",
          "data": {
            "text/html": [
              "<div>\n",
              "<style scoped>\n",
              "    .dataframe tbody tr th:only-of-type {\n",
              "        vertical-align: middle;\n",
              "    }\n",
              "\n",
              "    .dataframe tbody tr th {\n",
              "        vertical-align: top;\n",
              "    }\n",
              "\n",
              "    .dataframe thead th {\n",
              "        text-align: right;\n",
              "    }\n",
              "</style>\n",
              "<table border=\"1\" class=\"dataframe\">\n",
              "  <thead>\n",
              "    <tr style=\"text-align: right;\">\n",
              "      <th></th>\n",
              "      <th>index</th>\n",
              "      <th>uniqueID</th>\n",
              "      <th>drugName</th>\n",
              "      <th>condition</th>\n",
              "      <th>review</th>\n",
              "      <th>rating</th>\n",
              "      <th>date</th>\n",
              "      <th>usefulCount</th>\n",
              "    </tr>\n",
              "  </thead>\n",
              "  <tbody>\n",
              "    <tr>\n",
              "      <th>0</th>\n",
              "      <td>0</td>\n",
              "      <td>206461</td>\n",
              "      <td>Valsartan</td>\n",
              "      <td>leftventriculardysfunction</td>\n",
              "      <td>side effect take combination bystolic mg fish oil</td>\n",
              "      <td>9</td>\n",
              "      <td>20-May-12</td>\n",
              "      <td>27</td>\n",
              "    </tr>\n",
              "    <tr>\n",
              "      <th>1</th>\n",
              "      <td>1</td>\n",
              "      <td>95260</td>\n",
              "      <td>Guanfacine</td>\n",
              "      <td>adhd</td>\n",
              "      <td>son halfway fourth week intuniv . become conce...</td>\n",
              "      <td>8</td>\n",
              "      <td>27-Apr-10</td>\n",
              "      <td>192</td>\n",
              "    </tr>\n",
              "    <tr>\n",
              "      <th>2</th>\n",
              "      <td>2</td>\n",
              "      <td>92703</td>\n",
              "      <td>Lybrel</td>\n",
              "      <td>birthcontrol</td>\n",
              "      <td>use take another oral contraceptive pill cycle...</td>\n",
              "      <td>5</td>\n",
              "      <td>14-Dec-09</td>\n",
              "      <td>17</td>\n",
              "    </tr>\n",
              "    <tr>\n",
              "      <th>3</th>\n",
              "      <td>3</td>\n",
              "      <td>138000</td>\n",
              "      <td>Ortho Evra</td>\n",
              "      <td>birthcontrol</td>\n",
              "      <td>first time use form birthcontrol . glad go pat...</td>\n",
              "      <td>8</td>\n",
              "      <td>3-Nov-15</td>\n",
              "      <td>10</td>\n",
              "    </tr>\n",
              "    <tr>\n",
              "      <th>4</th>\n",
              "      <td>4</td>\n",
              "      <td>35696</td>\n",
              "      <td>Buprenorphine / naloxone</td>\n",
              "      <td>opiatedependence</td>\n",
              "      <td>suboxone completely turn life around . feel he...</td>\n",
              "      <td>9</td>\n",
              "      <td>27-Nov-16</td>\n",
              "      <td>37</td>\n",
              "    </tr>\n",
              "    <tr>\n",
              "      <th>...</th>\n",
              "      <td>...</td>\n",
              "      <td>...</td>\n",
              "      <td>...</td>\n",
              "      <td>...</td>\n",
              "      <td>...</td>\n",
              "      <td>...</td>\n",
              "      <td>...</td>\n",
              "      <td>...</td>\n",
              "    </tr>\n",
              "    <tr>\n",
              "      <th>159487</th>\n",
              "      <td>159493</td>\n",
              "      <td>191035</td>\n",
              "      <td>Campral</td>\n",
              "      <td>alcoholdependence</td>\n",
              "      <td>write first report mid october . alcohol since...</td>\n",
              "      <td>10</td>\n",
              "      <td>31-May-15</td>\n",
              "      <td>125</td>\n",
              "    </tr>\n",
              "    <tr>\n",
              "      <th>159488</th>\n",
              "      <td>159494</td>\n",
              "      <td>127085</td>\n",
              "      <td>Metoclopramide</td>\n",
              "      <td>nauseavomiting</td>\n",
              "      <td>give iv surgey . immediately become anxious co...</td>\n",
              "      <td>1</td>\n",
              "      <td>1-Nov-11</td>\n",
              "      <td>34</td>\n",
              "    </tr>\n",
              "    <tr>\n",
              "      <th>159489</th>\n",
              "      <td>159495</td>\n",
              "      <td>187382</td>\n",
              "      <td>Orencia</td>\n",
              "      <td>rheumatoidarthritis</td>\n",
              "      <td>limited improvement month developed bad rash m...</td>\n",
              "      <td>2</td>\n",
              "      <td>15-Mar-14</td>\n",
              "      <td>35</td>\n",
              "    </tr>\n",
              "    <tr>\n",
              "      <th>159490</th>\n",
              "      <td>159496</td>\n",
              "      <td>47128</td>\n",
              "      <td>Thyroid desiccated</td>\n",
              "      <td>underactivethyroid</td>\n",
              "      <td>thyroid medication year spent first synthroid ...</td>\n",
              "      <td>10</td>\n",
              "      <td>19-Sep-15</td>\n",
              "      <td>79</td>\n",
              "    </tr>\n",
              "    <tr>\n",
              "      <th>159491</th>\n",
              "      <td>159497</td>\n",
              "      <td>215220</td>\n",
              "      <td>Lubiprostone</td>\n",
              "      <td>constipation  chronic</td>\n",
              "      <td>chronic constipation adult life . try linz wor...</td>\n",
              "      <td>9</td>\n",
              "      <td>13-Dec-14</td>\n",
              "      <td>116</td>\n",
              "    </tr>\n",
              "  </tbody>\n",
              "</table>\n",
              "<p>159492 rows × 8 columns</p>\n",
              "</div>"
            ],
            "text/plain": [
              "         index  uniqueID  ...       date usefulCount\n",
              "0            0    206461  ...  20-May-12          27\n",
              "1            1     95260  ...  27-Apr-10         192\n",
              "2            2     92703  ...  14-Dec-09          17\n",
              "3            3    138000  ...   3-Nov-15          10\n",
              "4            4     35696  ...  27-Nov-16          37\n",
              "...        ...       ...  ...        ...         ...\n",
              "159487  159493    191035  ...  31-May-15         125\n",
              "159488  159494    127085  ...   1-Nov-11          34\n",
              "159489  159495    187382  ...  15-Mar-14          35\n",
              "159490  159496     47128  ...  19-Sep-15          79\n",
              "159491  159497    215220  ...  13-Dec-14         116\n",
              "\n",
              "[159492 rows x 8 columns]"
            ]
          },
          "metadata": {
            "tags": []
          },
          "execution_count": 5
        }
      ]
    },
    {
      "cell_type": "code",
      "metadata": {
        "id": "aV-mxREgXLQb"
      },
      "source": [
        "conditions = []\n",
        "reviews = []\n",
        "# review split\n",
        "for i in range(0, len(df_train)):\n",
        "  sentences = re.split('[.!?]', str(df_train.loc[i, 'review']))\n",
        "  sentences = list(map(lambda x: x.strip(), sentences))\n",
        "  sentences = list(filter(lambda x: x != '', sentences))\n",
        "# make list for making new dataframe(this dataframe uses word2vec model)\n",
        "  for sentence in sentences:\n",
        "    conditions.append(df_train.loc[i, 'condition'])\n",
        "    reviews.append(sentence)"
      ],
      "execution_count": 6,
      "outputs": []
    },
    {
      "cell_type": "code",
      "metadata": {
        "id": "MEdH1Lq9QCl0"
      },
      "source": [
        "conditions_test = []\n",
        "reviews_test = []\n",
        "# review split\n",
        "for i in range(0, len(df_train)):\n",
        "  sentences = re.split('[.!?]', str(df_train.loc[i, 'review']))\n",
        "  sentences = list(map(lambda x: x.strip(), sentences))\n",
        "  sentences = list(filter(lambda x: x != '', sentences))\n",
        "# make list for making new dataframe(this dataframe uses word2vec model)\n",
        "  for sentence in sentences:\n",
        "    conditions_test.append(df_train.loc[i, 'condition'])\n",
        "    reviews_test.append(sentence)"
      ],
      "execution_count": 7,
      "outputs": []
    },
    {
      "cell_type": "code",
      "metadata": {
        "id": "hB3YSutQYm5d"
      },
      "source": [
        "df_train_sentence = pd.DataFrame(data=list(zip(reviews, conditions)), columns=['review', 'condition'])"
      ],
      "execution_count": 8,
      "outputs": []
    },
    {
      "cell_type": "code",
      "metadata": {
        "id": "LGxOo_PzQOws"
      },
      "source": [
        "df_test_sentence = pd.DataFrame(data=list(zip(reviews_test, conditions_test)), columns=['review', 'condition'])"
      ],
      "execution_count": 9,
      "outputs": []
    },
    {
      "cell_type": "code",
      "metadata": {
        "colab": {
          "base_uri": "https://localhost:8080/",
          "height": 419
        },
        "id": "ZSVntiWj5B_c",
        "outputId": "03710dd5-731e-41cd-8d8f-e20bb5c2da22"
      },
      "source": [
        "df_train_sentence"
      ],
      "execution_count": 10,
      "outputs": [
        {
          "output_type": "execute_result",
          "data": {
            "text/html": [
              "<div>\n",
              "<style scoped>\n",
              "    .dataframe tbody tr th:only-of-type {\n",
              "        vertical-align: middle;\n",
              "    }\n",
              "\n",
              "    .dataframe tbody tr th {\n",
              "        vertical-align: top;\n",
              "    }\n",
              "\n",
              "    .dataframe thead th {\n",
              "        text-align: right;\n",
              "    }\n",
              "</style>\n",
              "<table border=\"1\" class=\"dataframe\">\n",
              "  <thead>\n",
              "    <tr style=\"text-align: right;\">\n",
              "      <th></th>\n",
              "      <th>review</th>\n",
              "      <th>condition</th>\n",
              "    </tr>\n",
              "  </thead>\n",
              "  <tbody>\n",
              "    <tr>\n",
              "      <th>0</th>\n",
              "      <td>side effect take combination bystolic mg fish oil</td>\n",
              "      <td>leftventriculardysfunction</td>\n",
              "    </tr>\n",
              "    <tr>\n",
              "      <th>1</th>\n",
              "      <td>son halfway fourth week intuniv</td>\n",
              "      <td>adhd</td>\n",
              "    </tr>\n",
              "    <tr>\n",
              "      <th>2</th>\n",
              "      <td>become concerned begin last week start take hi...</td>\n",
              "      <td>adhd</td>\n",
              "    </tr>\n",
              "    <tr>\n",
              "      <th>3</th>\n",
              "      <td>two day could hardly get bed cranky slept near...</td>\n",
              "      <td>adhd</td>\n",
              "    </tr>\n",
              "    <tr>\n",
              "      <th>4</th>\n",
              "      <td>call doctor monday morning say stick day</td>\n",
              "      <td>adhd</td>\n",
              "    </tr>\n",
              "    <tr>\n",
              "      <th>...</th>\n",
              "      <td>...</td>\n",
              "      <td>...</td>\n",
              "    </tr>\n",
              "    <tr>\n",
              "      <th>987673</th>\n",
              "      <td>doctor start amitiza mg miracle</td>\n",
              "      <td>constipation  chronic</td>\n",
              "    </tr>\n",
              "    <tr>\n",
              "      <th>987674</th>\n",
              "      <td>four month</td>\n",
              "      <td>constipation  chronic</td>\n",
              "    </tr>\n",
              "    <tr>\n",
              "      <th>987675</th>\n",
              "      <td>life day bowel motion go comfortably time per ...</td>\n",
              "      <td>constipation  chronic</td>\n",
              "    </tr>\n",
              "    <tr>\n",
              "      <th>987676</th>\n",
              "      <td>pain little gas</td>\n",
              "      <td>constipation  chronic</td>\n",
              "    </tr>\n",
              "    <tr>\n",
              "      <th>987677</th>\n",
              "      <td>miracle</td>\n",
              "      <td>constipation  chronic</td>\n",
              "    </tr>\n",
              "  </tbody>\n",
              "</table>\n",
              "<p>987678 rows × 2 columns</p>\n",
              "</div>"
            ],
            "text/plain": [
              "                                                   review                   condition\n",
              "0       side effect take combination bystolic mg fish oil  leftventriculardysfunction\n",
              "1                         son halfway fourth week intuniv                        adhd\n",
              "2       become concerned begin last week start take hi...                        adhd\n",
              "3       two day could hardly get bed cranky slept near...                        adhd\n",
              "4                call doctor monday morning say stick day                        adhd\n",
              "...                                                   ...                         ...\n",
              "987673                    doctor start amitiza mg miracle       constipation  chronic\n",
              "987674                                         four month       constipation  chronic\n",
              "987675  life day bowel motion go comfortably time per ...       constipation  chronic\n",
              "987676                                    pain little gas       constipation  chronic\n",
              "987677                                            miracle       constipation  chronic\n",
              "\n",
              "[987678 rows x 2 columns]"
            ]
          },
          "metadata": {
            "tags": []
          },
          "execution_count": 10
        }
      ]
    },
    {
      "cell_type": "code",
      "metadata": {
        "colab": {
          "base_uri": "https://localhost:8080/"
        },
        "id": "7aotrlp96NlS",
        "outputId": "eedf03a1-d726-4160-b00a-0102e2981a19"
      },
      "source": [
        "len(df_train_sentence['condition'].unique())"
      ],
      "execution_count": 11,
      "outputs": [
        {
          "output_type": "execute_result",
          "data": {
            "text/plain": [
              "809"
            ]
          },
          "metadata": {
            "tags": []
          },
          "execution_count": 11
        }
      ]
    },
    {
      "cell_type": "code",
      "metadata": {
        "id": "a7GFATURjfvV"
      },
      "source": [
        "class DatasetParam:\n",
        "  def __init__(self):\n",
        "    self.w2v_path = 'https://raw.githubusercontent.com/SNMHZ/Drug_Recommendation/master/model/ver1.0/sentenceunit_word2vec.model'\n",
        "    self.max_len = 30\n",
        "    self.batch_size = 4096"
      ],
      "execution_count": 12,
      "outputs": []
    },
    {
      "cell_type": "code",
      "metadata": {
        "id": "xjzMk5aQjmMf"
      },
      "source": [
        "param = DatasetParam()"
      ],
      "execution_count": 13,
      "outputs": []
    },
    {
      "cell_type": "code",
      "metadata": {
        "id": "PWasiDqsjZkz"
      },
      "source": [
        "class ReviewConditionDataset:\n",
        "    def __init__(self, args, condition_info):\n",
        "        w2v = Word2Vec.load(args.w2v_path)\n",
        "        self.word_id_dict = {word: i + 2 for i, word in enumerate(w2v.wv.index2word)}\n",
        "        self.word_id_dict['<pad>'] = 0\n",
        "        self.word_id_dict['<unknown_word>'] = 1\n",
        "        self.vocab_size = len(self.word_id_dict)\n",
        "        self.embedding_dim = w2v.wv.vectors.shape[1]\n",
        "        self.embeddings = np.append(np.zeros((2, self.embedding_dim), dtype=float), w2v.wv.vectors, axis=0)\n",
        "        self.pad_id = self.word_id_dict['<pad>']\n",
        "\n",
        "        self.cat_id_dict = {str(cat_id): i + 1 for i, cat_id in enumerate(condition_info)}\n",
        "        self.cat_id_dict['<unknown_cat_id>'] = 0\n",
        "\n",
        "        self.max_len = args.max_len\n",
        "        self.batch_size = args.batch_size\n",
        "\n",
        "    def word2id(self, word):\n",
        "        return self.word_id_dict.get(word) if self.word_id_dict.get(word) is not None else self.word_id_dict['<unknown_word>']\n",
        "\n",
        "    def sentence2ids(self, sentence, separator=' '):\n",
        "        words = sentence.split(separator)\n",
        "        words = words[0:min(self.max_len, len(words))]\n",
        "        ids = [self.word2id(word) for word in words]\n",
        "        if len(ids) < self.max_len:\n",
        "            ids.extend([self.word2id('<pad>')] * (self.max_len - len(ids)))\n",
        "        return ids\n",
        "\n",
        "    def cat_id2ids(self, cat_id):\n",
        "        return self.cat_id_dict.get(cat_id) if self.cat_id_dict.get(cat_id) is not None else self.cat_id_dict['<unknown_cat_id>']\n",
        "\n",
        "    def prepare_dataframe(self, df, include_cat_id=False):\n",
        "        df['input_x'] = df['review'].apply(self.sentence2ids)\n",
        "\n",
        "        if include_cat_id:\n",
        "            df['input_y'] = df['condition'].apply(self.cat_id2ids)\n",
        "\n",
        "        return df\n",
        "\n",
        "    def get_torch_loader(self, _df, include_cat_id=True):\n",
        "        df = self.prepare_dataframe(_df, include_cat_id=include_cat_id)\n",
        "\n",
        "        input_x = torch.LongTensor(df['input_x'].to_list())\n",
        "\n",
        "        if include_cat_id:\n",
        "            input_y = torch.LongTensor(df['input_y'].to_list())\n",
        "            dataset = TensorDataset(input_x, input_y)\n",
        "        else:\n",
        "            dataset = TensorDataset(input_x)\n",
        "\n",
        "        loader = DataLoader(dataset, self.batch_size)\n",
        "        return loader"
      ],
      "execution_count": 14,
      "outputs": []
    },
    {
      "cell_type": "code",
      "metadata": {
        "id": "Fsk_cIG757KJ"
      },
      "source": [
        "dataset = ReviewConditionDataset(param, df_train_sentence['condition'].unique())"
      ],
      "execution_count": 15,
      "outputs": []
    },
    {
      "cell_type": "code",
      "metadata": {
        "colab": {
          "base_uri": "https://localhost:8080/"
        },
        "id": "7PTV96_VTWpM",
        "outputId": "f3ce7d74-7c18-4b85-eea6-4d75ff050e9c"
      },
      "source": [
        "if torch.cuda.is_available():\n",
        "    device = torch.device(\"cuda\")\n",
        "    print(f'There are {torch.cuda.device_count()} GPU(s) available.')\n",
        "    print('Device name:', torch.cuda.get_device_name(0))\n",
        "\n",
        "else:\n",
        "    print('No GPU available, using the CPU instead.')\n",
        "    device = torch.device(\"cpu\")"
      ],
      "execution_count": 16,
      "outputs": [
        {
          "output_type": "stream",
          "text": [
            "There are 1 GPU(s) available.\n",
            "Device name: Tesla K80\n"
          ],
          "name": "stdout"
        }
      ]
    },
    {
      "cell_type": "code",
      "metadata": {
        "id": "FCkLPpya9gre"
      },
      "source": [
        "class ModelParam:\n",
        "  def __init__(self):\n",
        "    self.kernel_depth = 100\n",
        "    self.kernel_sizes = [3, 4]\n",
        "    self.num_classes = 810\n",
        "    self.dropout = 0.5"
      ],
      "execution_count": 17,
      "outputs": []
    },
    {
      "cell_type": "code",
      "metadata": {
        "colab": {
          "base_uri": "https://localhost:8080/"
        },
        "id": "WuxxsBKMSWLq",
        "outputId": "b989891b-3af0-4bdd-853f-f72bf30b86bb"
      },
      "source": [
        "len(df_train_sentence['condition'].unique())"
      ],
      "execution_count": 18,
      "outputs": [
        {
          "output_type": "execute_result",
          "data": {
            "text/plain": [
              "809"
            ]
          },
          "metadata": {
            "tags": []
          },
          "execution_count": 18
        }
      ]
    },
    {
      "cell_type": "code",
      "metadata": {
        "id": "bCedGNQTEjes"
      },
      "source": [
        "mparam = ModelParam()"
      ],
      "execution_count": 19,
      "outputs": []
    },
    {
      "cell_type": "code",
      "metadata": {
        "id": "TXplzTL2FYUk"
      },
      "source": [
        "class TextCNN(nn.Module):\n",
        "    def __init__(self, args, embeddings=None, vocab_size=None):\n",
        "        super(TextCNN, self).__init__()\n",
        "\n",
        "        if embeddings is not None:\n",
        "            self.embedding_dim = embeddings.shape[1]\n",
        "            self.embedding = nn.Embedding.from_pretrained(embeddings=embeddings,\n",
        "                                                          freeze=0)\n",
        "        else:\n",
        "            self.embedding_dim = 300\n",
        "            self.embedding = nn.Embedding(num_embeddings=vocab_size,\n",
        "                                          embedding_dim=300)\n",
        "\n",
        "        self.convs = nn.ModuleList([\n",
        "            nn.Conv1d(in_channels=self.embedding_dim,\n",
        "                      out_channels=args.kernel_depth,\n",
        "                      kernel_size=args.kernel_sizes[i])\n",
        "            for i in range(len(args.kernel_sizes))\n",
        "        ])\n",
        "\n",
        "        self.fc = nn.Linear(len(args.kernel_sizes) * args.kernel_depth, args.num_classes)\n",
        "        self.dropout = nn.Dropout(p=args.dropout)\n",
        "\n",
        "    def forward(self, input_x):\n",
        "        x_embed = self.embedding(input_x)\n",
        "        x_embed = x_embed.permute(0, 2, 1)\n",
        "        x_convs = [F.relu(conv1d(x_embed)) for conv1d in self.convs]\n",
        "        x_pools = [F.max_pool1d(x_conv, kernel_size=x_conv.shape[2]) for x_conv in x_convs]\n",
        "        x_fc = torch.cat([x_pool.squeeze(dim=2) for x_pool in x_pools], dim=1)\n",
        "        logits = self.fc(self.dropout(x_fc))\n",
        "\n",
        "        return logits"
      ],
      "execution_count": 20,
      "outputs": []
    },
    {
      "cell_type": "code",
      "metadata": {
        "id": "PYpvKjchEmiE"
      },
      "source": [
        "model = TextCNN(mparam, embeddings=torch.FloatTensor(dataset.embeddings))"
      ],
      "execution_count": 21,
      "outputs": []
    },
    {
      "cell_type": "code",
      "metadata": {
        "id": "RgG48tXAFpBv"
      },
      "source": [
        "from sklearn.model_selection import train_test_split"
      ],
      "execution_count": 22,
      "outputs": []
    },
    {
      "cell_type": "code",
      "metadata": {
        "id": "AujfBQynFfMK"
      },
      "source": [
        "train_sentence, valid_sentence = train_test_split(df_train_sentence, test_size=0.2, random_state=777)"
      ],
      "execution_count": 23,
      "outputs": []
    },
    {
      "cell_type": "code",
      "metadata": {
        "colab": {
          "base_uri": "https://localhost:8080/",
          "height": 419
        },
        "id": "OOyuDwF0FzO2",
        "outputId": "81afe955-d3d1-4380-fb0a-b4e7ebeb93b7"
      },
      "source": [
        "train_sentence"
      ],
      "execution_count": 24,
      "outputs": [
        {
          "output_type": "execute_result",
          "data": {
            "text/html": [
              "<div>\n",
              "<style scoped>\n",
              "    .dataframe tbody tr th:only-of-type {\n",
              "        vertical-align: middle;\n",
              "    }\n",
              "\n",
              "    .dataframe tbody tr th {\n",
              "        vertical-align: top;\n",
              "    }\n",
              "\n",
              "    .dataframe thead th {\n",
              "        text-align: right;\n",
              "    }\n",
              "</style>\n",
              "<table border=\"1\" class=\"dataframe\">\n",
              "  <thead>\n",
              "    <tr style=\"text-align: right;\">\n",
              "      <th></th>\n",
              "      <th>review</th>\n",
              "      <th>condition</th>\n",
              "    </tr>\n",
              "  </thead>\n",
              "  <tbody>\n",
              "    <tr>\n",
              "      <th>123164</th>\n",
              "      <td>past month month half sex drive virtually none...</td>\n",
              "      <td>birthcontrol</td>\n",
              "    </tr>\n",
              "    <tr>\n",
              "      <th>302450</th>\n",
              "      <td>well change since wound er last weekend terrib...</td>\n",
              "      <td>constipation  chronic</td>\n",
              "    </tr>\n",
              "    <tr>\n",
              "      <th>495101</th>\n",
              "      <td>terrible sinus infection</td>\n",
              "      <td>sinusitis</td>\n",
              "    </tr>\n",
              "    <tr>\n",
              "      <th>531505</th>\n",
              "      <td>last week</td>\n",
              "      <td>acne</td>\n",
              "    </tr>\n",
              "    <tr>\n",
              "      <th>960046</th>\n",
              "      <td>doctor prescribed ambien help sleept hour</td>\n",
              "      <td>insomnia</td>\n",
              "    </tr>\n",
              "    <tr>\n",
              "      <th>...</th>\n",
              "      <td>...</td>\n",
              "      <td>...</td>\n",
              "    </tr>\n",
              "    <tr>\n",
              "      <th>106071</th>\n",
              "      <td>medication take acute asthma</td>\n",
              "      <td>asthmamaintenance</td>\n",
              "    </tr>\n",
              "    <tr>\n",
              "      <th>183206</th>\n",
              "      <td>would recommend treatment anyone plantar wart</td>\n",
              "      <td>humanpapillomavirus</td>\n",
              "    </tr>\n",
              "    <tr>\n",
              "      <th>474683</th>\n",
              "      <td>hope find solution work</td>\n",
              "      <td>musclespasm</td>\n",
              "    </tr>\n",
              "    <tr>\n",
              "      <th>899887</th>\n",
              "      <td>really hard figure next period</td>\n",
              "      <td>birthcontrol</td>\n",
              "    </tr>\n",
              "    <tr>\n",
              "      <th>325735</th>\n",
              "      <td>girlfreind hought bunch short sleve shirt</td>\n",
              "      <td>psoriasis</td>\n",
              "    </tr>\n",
              "  </tbody>\n",
              "</table>\n",
              "<p>790142 rows × 2 columns</p>\n",
              "</div>"
            ],
            "text/plain": [
              "                                                   review              condition\n",
              "123164  past month month half sex drive virtually none...           birthcontrol\n",
              "302450  well change since wound er last weekend terrib...  constipation  chronic\n",
              "495101                           terrible sinus infection              sinusitis\n",
              "531505                                          last week                   acne\n",
              "960046          doctor prescribed ambien help sleept hour               insomnia\n",
              "...                                                   ...                    ...\n",
              "106071                       medication take acute asthma      asthmamaintenance\n",
              "183206      would recommend treatment anyone plantar wart    humanpapillomavirus\n",
              "474683                            hope find solution work            musclespasm\n",
              "899887                     really hard figure next period           birthcontrol\n",
              "325735          girlfreind hought bunch short sleve shirt              psoriasis\n",
              "\n",
              "[790142 rows x 2 columns]"
            ]
          },
          "metadata": {
            "tags": []
          },
          "execution_count": 24
        }
      ]
    },
    {
      "cell_type": "code",
      "metadata": {
        "colab": {
          "base_uri": "https://localhost:8080/"
        },
        "id": "yZMiFsfcFQg8",
        "outputId": "2a2711fc-0540-4f6b-efdf-dd8b9499e3ff"
      },
      "source": [
        "train_loader = dataset.get_torch_loader(train_sentence)"
      ],
      "execution_count": 25,
      "outputs": [
        {
          "output_type": "stream",
          "text": [
            "/usr/local/lib/python3.7/dist-packages/ipykernel_launcher.py:33: SettingWithCopyWarning: \n",
            "A value is trying to be set on a copy of a slice from a DataFrame.\n",
            "Try using .loc[row_indexer,col_indexer] = value instead\n",
            "\n",
            "See the caveats in the documentation: https://pandas.pydata.org/pandas-docs/stable/user_guide/indexing.html#returning-a-view-versus-a-copy\n",
            "/usr/local/lib/python3.7/dist-packages/ipykernel_launcher.py:36: SettingWithCopyWarning: \n",
            "A value is trying to be set on a copy of a slice from a DataFrame.\n",
            "Try using .loc[row_indexer,col_indexer] = value instead\n",
            "\n",
            "See the caveats in the documentation: https://pandas.pydata.org/pandas-docs/stable/user_guide/indexing.html#returning-a-view-versus-a-copy\n"
          ],
          "name": "stderr"
        }
      ]
    },
    {
      "cell_type": "code",
      "metadata": {
        "colab": {
          "base_uri": "https://localhost:8080/"
        },
        "id": "ZdoXxEZOF14E",
        "outputId": "6b13f885-f120-43ab-bbd9-786884c751ce"
      },
      "source": [
        "valid_loader = dataset.get_torch_loader(valid_sentence)"
      ],
      "execution_count": 26,
      "outputs": [
        {
          "output_type": "stream",
          "text": [
            "/usr/local/lib/python3.7/dist-packages/ipykernel_launcher.py:33: SettingWithCopyWarning: \n",
            "A value is trying to be set on a copy of a slice from a DataFrame.\n",
            "Try using .loc[row_indexer,col_indexer] = value instead\n",
            "\n",
            "See the caveats in the documentation: https://pandas.pydata.org/pandas-docs/stable/user_guide/indexing.html#returning-a-view-versus-a-copy\n",
            "/usr/local/lib/python3.7/dist-packages/ipykernel_launcher.py:36: SettingWithCopyWarning: \n",
            "A value is trying to be set on a copy of a slice from a DataFrame.\n",
            "Try using .loc[row_indexer,col_indexer] = value instead\n",
            "\n",
            "See the caveats in the documentation: https://pandas.pydata.org/pandas-docs/stable/user_guide/indexing.html#returning-a-view-versus-a-copy\n"
          ],
          "name": "stderr"
        }
      ]
    },
    {
      "cell_type": "code",
      "metadata": {
        "id": "gYaB1Ar5Rbtg"
      },
      "source": [
        "# for batch in train_loader:\n",
        "#   print(batch)"
      ],
      "execution_count": 27,
      "outputs": []
    },
    {
      "cell_type": "code",
      "metadata": {
        "colab": {
          "base_uri": "https://localhost:8080/"
        },
        "id": "ZRqUyNzxPFi1",
        "outputId": "85e0290d-5800-4539-d4ea-8dc53daf7882"
      },
      "source": [
        "if torch.cuda.is_available():\n",
        "    device = torch.device(\"cuda\")\n",
        "    print(f'There are {torch.cuda.device_count()} GPU(s) available.')\n",
        "    print('Device name:', torch.cuda.get_device_name(0))\n",
        "\n",
        "else:\n",
        "    print('No GPU available, using the CPU instead.')\n",
        "    device = torch.device(\"cpu\")"
      ],
      "execution_count": 28,
      "outputs": [
        {
          "output_type": "stream",
          "text": [
            "There are 1 GPU(s) available.\n",
            "Device name: Tesla K80\n"
          ],
          "name": "stdout"
        }
      ]
    },
    {
      "cell_type": "code",
      "metadata": {
        "id": "IApEgjlVFZGD"
      },
      "source": [
        "def train(model, train_loader, valid_loader):\n",
        "    if torch.cuda.is_available():\n",
        "        device = torch.device(\"cuda\")\n",
        "        print(f'There are {torch.cuda.device_count()} GPU(s) available.')\n",
        "        print('Device name:', torch.cuda.get_device_name(0))\n",
        "\n",
        "    else:\n",
        "        print('No GPU available, using the CPU instead.')\n",
        "        device = torch.device(\"cpu\")\n",
        "\n",
        "    model.to(device)\n",
        "\n",
        "    optimizer = torch.optim.Adam(model.parameters(), lr=0.001)\n",
        "    loss_fn = nn.CrossEntropyLoss()\n",
        "\n",
        "    for epoch in range(10):\n",
        "        model.train()\n",
        "\n",
        "        train_loss = 0\n",
        "        for batch in train_loader:\n",
        "            batch_input_x, batch_input_y = tuple(t.to(device) for t in batch)\n",
        "            model.zero_grad()\n",
        "            logits = model(batch_input_x)\n",
        "\n",
        "            loss = loss_fn(logits, batch_input_y)\n",
        "            train_loss += loss.item()\n",
        "            loss.backward()\n",
        "            optimizer.step()\n",
        "\n",
        "        model.eval()\n",
        "\n",
        "        val_loss = 0\n",
        "        val_accuracy = []\n",
        "        for batch in valid_loader:\n",
        "            batch_input_x, batch_input_y = tuple(t.to(device) for t in batch)\n",
        "\n",
        "            with torch.no_grad():\n",
        "                logits = model(batch_input_x)\n",
        "\n",
        "            loss = loss_fn(logits, batch_input_y)\n",
        "            val_loss += loss.item()\n",
        "\n",
        "            preds = torch.argmax(logits, dim=1).flatten()\n",
        "\n",
        "            accuracy = (preds == batch_input_y).cpu().numpy().mean()\n",
        "            val_accuracy.append(accuracy)\n",
        "\n",
        "        print('epoch: ', epoch, 'train_loss: ', train_loss/len(train_loader), 'val_loss: ', val_loss/len(valid_loader), 'val_accuracy: ', np.mean(val_accuracy))\n",
        "\n",
        "    return model"
      ],
      "execution_count": 29,
      "outputs": []
    },
    {
      "cell_type": "markdown",
      "metadata": {
        "id": "O1YfeXywTyNO"
      },
      "source": [
        "# train"
      ]
    },
    {
      "cell_type": "markdown",
      "metadata": {
        "id": "i42uKdxNXkqx"
      },
      "source": [
        "## 리뷰단위 임베딩"
      ]
    },
    {
      "cell_type": "code",
      "metadata": {
        "colab": {
          "base_uri": "https://localhost:8080/"
        },
        "id": "3dwBzRy2E_yB",
        "outputId": "ecfd80a1-ee20-4571-a909-2053e3902a7e"
      },
      "source": [
        "train(model, train_loader, valid_loader)"
      ],
      "execution_count": 175,
      "outputs": [
        {
          "output_type": "stream",
          "text": [
            "There are 1 GPU(s) available.\n",
            "Device name: Tesla T4\n"
          ],
          "name": "stdout"
        },
        {
          "output_type": "stream",
          "text": [
            "/usr/local/lib/python3.7/dist-packages/torch/nn/functional.py:652: UserWarning: Named tensors and all their associated APIs are an experimental feature and subject to change. Please do not use them for anything important until they are released as stable. (Triggered internally at  /pytorch/c10/core/TensorImpl.h:1156.)\n",
            "  return torch.max_pool1d(input, kernel_size, stride, padding, dilation, ceil_mode)\n"
          ],
          "name": "stderr"
        },
        {
          "output_type": "stream",
          "text": [
            "epoch:  0 train_loss:  3.769276152658199 val_loss:  3.162481777003554 val_accuracy:  0.34920378965870547\n",
            "epoch:  1 train_loss:  3.1490750220599097 val_loss:  2.9424512581747084 val_accuracy:  0.38334505502755795\n",
            "epoch:  2 train_loss:  2.966908146663265 val_loss:  2.819185374213047 val_accuracy:  0.4015516523724562\n",
            "epoch:  3 train_loss:  2.8635351710556622 val_loss:  2.7510881463035206 val_accuracy:  0.411733379116026\n",
            "epoch:  4 train_loss:  2.798826354643258 val_loss:  2.7114475711447295 val_accuracy:  0.41715399104366874\n",
            "epoch:  5 train_loss:  2.7545140211094807 val_loss:  2.683942853427324 val_accuracy:  0.4209340442163652\n",
            "epoch:  6 train_loss:  2.7204134595986886 val_loss:  2.6652769573399278 val_accuracy:  0.42340045797413794\n",
            "epoch:  7 train_loss:  2.6944445707521387 val_loss:  2.650431179609455 val_accuracy:  0.4258644979508197\n",
            "epoch:  8 train_loss:  2.671147885243537 val_loss:  2.639252776005229 val_accuracy:  0.4267379941881006\n",
            "epoch:  9 train_loss:  2.6503506418091156 val_loss:  2.6297466168638137 val_accuracy:  0.42848437941633694\n"
          ],
          "name": "stdout"
        },
        {
          "output_type": "execute_result",
          "data": {
            "text/plain": [
              "TextCNN(\n",
              "  (embedding): Embedding(8900, 300)\n",
              "  (convs): ModuleList(\n",
              "    (0): Conv1d(300, 100, kernel_size=(3,), stride=(1,))\n",
              "    (1): Conv1d(300, 100, kernel_size=(4,), stride=(1,))\n",
              "    (2): Conv1d(300, 100, kernel_size=(5,), stride=(1,))\n",
              "  )\n",
              "  (fc): Linear(in_features=300, out_features=4260, bias=True)\n",
              "  (dropout): Dropout(p=0.5, inplace=False)\n",
              ")"
            ]
          },
          "metadata": {
            "tags": []
          },
          "execution_count": 175
        }
      ]
    },
    {
      "cell_type": "code",
      "metadata": {
        "colab": {
          "base_uri": "https://localhost:8080/"
        },
        "id": "NCoSuTLTPUvP",
        "outputId": "0d46ffd6-9dc8-46c4-b091-72859436054c"
      },
      "source": [
        "train(model, train_loader, valid_loader)"
      ],
      "execution_count": 30,
      "outputs": [
        {
          "output_type": "stream",
          "text": [
            "There are 1 GPU(s) available.\n",
            "Device name: Tesla T4\n"
          ],
          "name": "stdout"
        },
        {
          "output_type": "stream",
          "text": [
            "/usr/local/lib/python3.7/dist-packages/torch/nn/functional.py:652: UserWarning: Named tensors and all their associated APIs are an experimental feature and subject to change. Please do not use them for anything important until they are released as stable. (Triggered internally at  /pytorch/c10/core/TensorImpl.h:1156.)\n",
            "  return torch.max_pool1d(input, kernel_size, stride, padding, dilation, ceil_mode)\n"
          ],
          "name": "stderr"
        },
        {
          "output_type": "stream",
          "text": [
            "epoch:  0 train_loss:  3.7018832357436264 val_loss:  3.1773924000409184 val_accuracy:  0.3475504156403941\n",
            "epoch:  1 train_loss:  3.177360592728452 val_loss:  2.955463166139564 val_accuracy:  0.382214260973786\n",
            "epoch:  2 train_loss:  3.0023150629330178 val_loss:  2.8373393379912084 val_accuracy:  0.4004272203223962\n",
            "epoch:  3 train_loss:  2.9058743733816197 val_loss:  2.7716620503639686 val_accuracy:  0.4109907264360486\n",
            "epoch:  4 train_loss:  2.8478613900397107 val_loss:  2.7332024233681813 val_accuracy:  0.41576048859737863\n",
            "epoch:  5 train_loss:  2.8066183273038714 val_loss:  2.7081340673018475 val_accuracy:  0.41879137161330043\n",
            "epoch:  6 train_loss:  2.7784550745870167 val_loss:  2.689738998607713 val_accuracy:  0.4212850078070021\n",
            "epoch:  7 train_loss:  2.7549744467661172 val_loss:  2.677372372880274 val_accuracy:  0.4230903770452146\n",
            "epoch:  8 train_loss:  2.7355428322609225 val_loss:  2.6652971384476642 val_accuracy:  0.4246809850017593\n",
            "epoch:  9 train_loss:  2.7182813506052286 val_loss:  2.6570002984027474 val_accuracy:  0.42564672353316324\n"
          ],
          "name": "stdout"
        },
        {
          "output_type": "execute_result",
          "data": {
            "text/plain": [
              "TextCNN(\n",
              "  (embedding): Embedding(8900, 300)\n",
              "  (convs): ModuleList(\n",
              "    (0): Conv1d(300, 100, kernel_size=(3,), stride=(1,))\n",
              "    (1): Conv1d(300, 100, kernel_size=(4,), stride=(1,))\n",
              "  )\n",
              "  (fc): Linear(in_features=200, out_features=810, bias=True)\n",
              "  (dropout): Dropout(p=0.5, inplace=False)\n",
              ")"
            ]
          },
          "metadata": {
            "tags": []
          },
          "execution_count": 30
        }
      ]
    },
    {
      "cell_type": "markdown",
      "metadata": {
        "id": "KYeU-YcOX-nx"
      },
      "source": [
        "## 문장단위 임베딩"
      ]
    },
    {
      "cell_type": "code",
      "metadata": {
        "colab": {
          "base_uri": "https://localhost:8080/"
        },
        "id": "yhUWSSrENcBV",
        "outputId": "bd18b872-0a21-4499-fdec-a2ddacae388e"
      },
      "source": [
        "train(model, train_loader, valid_loader)"
      ],
      "execution_count": 30,
      "outputs": [
        {
          "output_type": "stream",
          "text": [
            "There are 1 GPU(s) available.\n",
            "Device name: Tesla K80\n"
          ],
          "name": "stdout"
        },
        {
          "output_type": "stream",
          "text": [
            "/usr/local/lib/python3.7/dist-packages/torch/nn/functional.py:652: UserWarning: Named tensors and all their associated APIs are an experimental feature and subject to change. Please do not use them for anything important until they are released as stable. (Triggered internally at  /pytorch/c10/core/TensorImpl.h:1156.)\n",
            "  return torch.max_pool1d(input, kernel_size, stride, padding, dilation, ceil_mode)\n"
          ],
          "name": "stderr"
        },
        {
          "output_type": "stream",
          "text": [
            "epoch:  0 train_loss:  3.825959944354438 val_loss:  3.2371867530199947 val_accuracy:  0.33626204724885644\n",
            "epoch:  1 train_loss:  3.190945390592585 val_loss:  2.9422106645545183 val_accuracy:  0.38806006306078467\n",
            "epoch:  2 train_loss:  2.9869136872069206 val_loss:  2.817788537667722 val_accuracy:  0.40619502111189304\n",
            "epoch:  3 train_loss:  2.888433101881353 val_loss:  2.7544552695994473 val_accuracy:  0.414724480174613\n",
            "epoch:  4 train_loss:  2.828669913692178 val_loss:  2.7159814591310463 val_accuracy:  0.41981896139382474\n",
            "epoch:  5 train_loss:  2.786704582253886 val_loss:  2.6900562023629946 val_accuracy:  0.42321906200519\n",
            "epoch:  6 train_loss:  2.7546024730168477 val_loss:  2.6693669922497807 val_accuracy:  0.42595185636215693\n",
            "epoch:  7 train_loss:  2.728056403639403 val_loss:  2.6559947753439146 val_accuracy:  0.42724437565974666\n",
            "epoch:  8 train_loss:  2.7061315731681073 val_loss:  2.6429831251806144 val_accuracy:  0.42899115802032023\n",
            "epoch:  9 train_loss:  2.686686040206277 val_loss:  2.633637403955265 val_accuracy:  0.42973680919027096\n"
          ],
          "name": "stdout"
        },
        {
          "output_type": "execute_result",
          "data": {
            "text/plain": [
              "TextCNN(\n",
              "  (embedding): Embedding(9193, 300)\n",
              "  (convs): ModuleList(\n",
              "    (0): Conv1d(300, 100, kernel_size=(3,), stride=(1,))\n",
              "    (1): Conv1d(300, 100, kernel_size=(4,), stride=(1,))\n",
              "  )\n",
              "  (fc): Linear(in_features=200, out_features=810, bias=True)\n",
              "  (dropout): Dropout(p=0.5, inplace=False)\n",
              ")"
            ]
          },
          "metadata": {
            "tags": []
          },
          "execution_count": 30
        }
      ]
    },
    {
      "cell_type": "markdown",
      "metadata": {
        "id": "SgXL8qDWVSxf"
      },
      "source": [
        "# test\n"
      ]
    },
    {
      "cell_type": "code",
      "metadata": {
        "id": "n-yIurvTVUGf"
      },
      "source": [
        "def predict(model, test_loader):\n",
        "    if torch.cuda.is_available():\n",
        "        device = torch.device(\"cuda\")\n",
        "        print(f'There are {torch.cuda.device_count()} GPU(s) available.')\n",
        "        print('Device name:', torch.cuda.get_device_name(0))\n",
        "\n",
        "    else:\n",
        "        print('No GPU available, using the CPU instead.')\n",
        "        device = torch.device(\"cpu\")\n",
        "\n",
        "    model.to(device)\n",
        "\n",
        "    model.eval()\n",
        "\n",
        "    result = []\n",
        "    for batch in test_loader:\n",
        "        batch_input_x = batch[0].to(device)\n",
        "\n",
        "        with torch.no_grad():\n",
        "            logits = model(batch_input_x)\n",
        "\n",
        "        preds = torch.argmax(logits, dim=1).flatten()\n",
        "        result.extend(preds.cpu().numpy())\n",
        "\n",
        "    return result"
      ],
      "execution_count": 31,
      "outputs": []
    },
    {
      "cell_type": "code",
      "metadata": {
        "id": "lSfR_sCMWHsH"
      },
      "source": [
        "test_loader = dataset.get_torch_loader(df_test_sentence)"
      ],
      "execution_count": 32,
      "outputs": []
    },
    {
      "cell_type": "markdown",
      "metadata": {
        "id": "GMVsStPVa-9z"
      },
      "source": [
        "## 리뷰단위 임베딩 2"
      ]
    },
    {
      "cell_type": "code",
      "metadata": {
        "colab": {
          "base_uri": "https://localhost:8080/"
        },
        "id": "U_TDhs_fWX26",
        "outputId": "9866b599-c213-4a27-d5a7-786274d22891"
      },
      "source": [
        "df_test_sentence['predict'] = predict(model, test_loader)"
      ],
      "execution_count": 37,
      "outputs": [
        {
          "output_type": "stream",
          "text": [
            "There are 1 GPU(s) available.\n",
            "Device name: Tesla T4\n"
          ],
          "name": "stdout"
        }
      ]
    },
    {
      "cell_type": "code",
      "metadata": {
        "colab": {
          "base_uri": "https://localhost:8080/"
        },
        "id": "wzGvjiZTWqTT",
        "outputId": "26d91604-97b8-4307-b105-b1c4bc321315"
      },
      "source": [
        "len(df_test_sentence[ df_test_sentence['input_y']==df_test_sentence['predict']])"
      ],
      "execution_count": 40,
      "outputs": [
        {
          "output_type": "execute_result",
          "data": {
            "text/plain": [
              "431067"
            ]
          },
          "metadata": {
            "tags": []
          },
          "execution_count": 40
        }
      ]
    },
    {
      "cell_type": "code",
      "metadata": {
        "colab": {
          "base_uri": "https://localhost:8080/"
        },
        "id": "tT-WkdVRW0CS",
        "outputId": "1074934d-acae-43b4-a294-8d5bc5c9bdd3"
      },
      "source": [
        "len(df_test_sentence)"
      ],
      "execution_count": 41,
      "outputs": [
        {
          "output_type": "execute_result",
          "data": {
            "text/plain": [
              "987678"
            ]
          },
          "metadata": {
            "tags": []
          },
          "execution_count": 41
        }
      ]
    },
    {
      "cell_type": "code",
      "metadata": {
        "colab": {
          "base_uri": "https://localhost:8080/"
        },
        "id": "DJrWgiDuW2Ld",
        "outputId": "b974fdb8-68dd-4529-b153-0446053cbc91"
      },
      "source": [
        "431067/987678"
      ],
      "execution_count": 42,
      "outputs": [
        {
          "output_type": "execute_result",
          "data": {
            "text/plain": [
              "0.43644487373415225"
            ]
          },
          "metadata": {
            "tags": []
          },
          "execution_count": 42
        }
      ]
    },
    {
      "cell_type": "markdown",
      "metadata": {
        "id": "jBKj-J7ibBNU"
      },
      "source": [
        "## 문장단위 임베딩"
      ]
    },
    {
      "cell_type": "code",
      "metadata": {
        "colab": {
          "base_uri": "https://localhost:8080/"
        },
        "id": "9D7YSqdFbEP5",
        "outputId": "f07d7c52-2ad8-4204-8896-8dbb0396539a"
      },
      "source": [
        "df_test_sentence['predict'] = predict(model, test_loader)"
      ],
      "execution_count": 33,
      "outputs": [
        {
          "output_type": "stream",
          "text": [
            "There are 1 GPU(s) available.\n",
            "Device name: Tesla K80\n"
          ],
          "name": "stdout"
        }
      ]
    },
    {
      "cell_type": "code",
      "metadata": {
        "colab": {
          "base_uri": "https://localhost:8080/"
        },
        "id": "DhhJaFkrbTUs",
        "outputId": "4539a3c4-ca23-43c1-f082-f5a6d63a8f7d"
      },
      "source": [
        "len(df_test_sentence[ df_test_sentence['input_y']==df_test_sentence['predict']]) / len(df_test_sentence)"
      ],
      "execution_count": 34,
      "outputs": [
        {
          "output_type": "execute_result",
          "data": {
            "text/plain": [
              "0.4432021367287719"
            ]
          },
          "metadata": {
            "tags": []
          },
          "execution_count": 34
        }
      ]
    }
  ]
}