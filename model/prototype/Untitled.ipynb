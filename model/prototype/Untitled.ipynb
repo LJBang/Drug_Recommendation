{
 "cells": [
  {
   "cell_type": "code",
   "execution_count": 1,
   "metadata": {},
   "outputs": [
    {
     "name": "stderr",
     "output_type": "stream",
     "text": [
      "[nltk_data] Downloading package punkt to\n",
      "[nltk_data]     C:\\Users\\JunGi_Kim\\AppData\\Roaming\\nltk_data...\n",
      "[nltk_data]   Package punkt is already up-to-date!\n"
     ]
    },
    {
     "ename": "ModuleNotFoundError",
     "evalue": "No module named 'gensim'",
     "output_type": "error",
     "traceback": [
      "\u001b[1;31m---------------------------------------------------------------------------\u001b[0m",
      "\u001b[1;31mModuleNotFoundError\u001b[0m                       Traceback (most recent call last)",
      "\u001b[1;32m<ipython-input-1-81d779680e33>\u001b[0m in \u001b[0;36m<module>\u001b[1;34m\u001b[0m\n\u001b[0;32m      4\u001b[0m \u001b[1;32mimport\u001b[0m \u001b[0mre\u001b[0m\u001b[1;33m\u001b[0m\u001b[1;33m\u001b[0m\u001b[0m\n\u001b[0;32m      5\u001b[0m \u001b[1;32mfrom\u001b[0m \u001b[0mnltk\u001b[0m\u001b[1;33m.\u001b[0m\u001b[0mtokenize\u001b[0m \u001b[1;32mimport\u001b[0m \u001b[0mword_tokenize\u001b[0m\u001b[1;33m,\u001b[0m \u001b[0msent_tokenize\u001b[0m\u001b[1;33m\u001b[0m\u001b[1;33m\u001b[0m\u001b[0m\n\u001b[1;32m----> 6\u001b[1;33m \u001b[1;32mfrom\u001b[0m \u001b[0mgensim\u001b[0m\u001b[1;33m.\u001b[0m\u001b[0mmodels\u001b[0m \u001b[1;32mimport\u001b[0m \u001b[0mWord2Vec\u001b[0m\u001b[1;33m\u001b[0m\u001b[1;33m\u001b[0m\u001b[0m\n\u001b[0m\u001b[0;32m      7\u001b[0m \u001b[1;32mfrom\u001b[0m \u001b[0msklearn\u001b[0m\u001b[1;33m.\u001b[0m\u001b[0mmetrics\u001b[0m\u001b[1;33m.\u001b[0m\u001b[0mpairwise\u001b[0m \u001b[1;32mimport\u001b[0m  \u001b[0mcosine_similarity\u001b[0m\u001b[1;33m\u001b[0m\u001b[1;33m\u001b[0m\u001b[0m\n\u001b[0;32m      8\u001b[0m \u001b[1;33m\u001b[0m\u001b[0m\n",
      "\u001b[1;31mModuleNotFoundError\u001b[0m: No module named 'gensim'"
     ]
    }
   ],
   "source": [
    "import nltk\n",
    "nltk.download('punkt')\n",
    "import pandas as pd\n",
    "import re\n",
    "from nltk.tokenize import word_tokenize, sent_tokenize\n",
    "from gensim.models import Word2Vec\n",
    "from sklearn.metrics.pairwise import  cosine_similarity\n",
    "\n",
    "df_train = pd.read_csv(\"https://raw.githubusercontent.com/SNMHZ/Drug_Recommendation/master/dataset/lem_train.csv\", parse_dates=[\"date\"], infer_datetime_format=True)\n",
    "df_test = pd.read_csv(\"https://raw.githubusercontent.com/SNMHZ/Drug_Recommendation/master/dataset/lem_test.csv\", parse_dates=[\"date\"], infer_datetime_format=True)\n",
    "\n",
    "print(type(df_train['review']))\n",
    "\n",
    "#df_train['tokenize_review'] = word_tokenize(df_train['review'])\n",
    "\n",
    "print(df_train.isnull().values.any())\n",
    "print(df_test.isnull().values.any())\n",
    "\n",
    "print(len(df_train))\n",
    "print(len(df_test))\n",
    "\n",
    "df_train = df_train.dropna(how='any')\n",
    "df_test = df_test.dropna(how='any')\n",
    "\n",
    "print(df_train.isnull().values.any())\n",
    "print(df_test.isnull().values.any())\n",
    "\n",
    "print(len(df_train))\n",
    "print(len(df_test))\n",
    "print(df_train['review'][0])\n",
    "\n",
    "df_train['new'] = df_train['review'].str.cat(df_train['condition'], sep=' ')\n",
    "df_train['new'] = df_train['new'].str.lower()\n",
    "\n",
    "# to-do : 증상이 2단어 이상으로 이루어진것도 존재함. 이거 핸들링 해야 함\n",
    "\n",
    "tokenize_data = [word_tokenize(sentence) for sentence in df_train['new']]\n",
    "\n",
    "print(tokenize_data[:2])\n",
    "\n",
    "model = Word2Vec(sentences= tokenize_data, size=100, window=5, min_count=5, workers=4, sg=0)\n",
    "\n",
    "print(model.wv.vectors.shape)\n",
    "\n",
    "print(type(model.wv.most_similar('anxiety')))"
   ]
  },
  {
   "cell_type": "code",
   "execution_count": null,
   "metadata": {},
   "outputs": [],
   "source": []
  }
 ],
 "metadata": {
  "kernelspec": {
   "display_name": "kjg",
   "language": "python",
   "name": "swproject"
  },
  "language_info": {
   "codemirror_mode": {
    "name": "ipython",
    "version": 3
   },
   "file_extension": ".py",
   "mimetype": "text/x-python",
   "name": "python",
   "nbconvert_exporter": "python",
   "pygments_lexer": "ipython3",
   "version": "3.8.5"
  }
 },
 "nbformat": 4,
 "nbformat_minor": 4
}
