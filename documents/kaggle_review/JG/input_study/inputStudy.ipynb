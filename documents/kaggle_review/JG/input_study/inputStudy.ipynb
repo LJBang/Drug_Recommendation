{
 "cells": [
  {
   "cell_type": "markdown",
   "metadata": {},
   "source": [
    "## Point\n",
    "What is symptom terminology in the input string?\n",
    "Also, relationship similarity of words is important to seach information\n",
    "\n",
    "\n",
    "### 1. 명확한 symptom으로 이루어진 문장으로 입력받는 경우\n",
    "I have **cough, phlegm, sore throat, rash, and headaches.** Also, \n",
    "\n",
    "### 2. Symptom을 비유하듯이 표현한 경우\n",
    "My **neck and armpit is swollen**, and **red**\n",
    "\n",
    "또는\n",
    "\n",
    "(감기 걸린 것 처럼, 몸이 으실으실하다)\n",
    "My body is **cold shivers** like fever.\n",
    "\n",
    "### 3. 단어(단답)로 입력받는 경우\n",
    "Depression\n",
    "Rapid heart rate\n",
    "Annoyed\n",
    "Anxiety\n",
    "\n"
   ]
  },
  {
   "cell_type": "code",
   "execution_count": 9,
   "metadata": {},
   "outputs": [],
   "source": [
    "input1 = \"I have cough, phlegm, sore throat, rash, blar, today i see the movie and headaches\"\n",
    "input2 = \"My neck and armpit is swollen and red\"\n",
    "input3 = \"Depression | Rapid heart rate | Annoyed | Anxiety\"\n",
    "inputEx = \"SO MUCH PAIN! In the last 2 years I have suffered with a brain tumour so have been in a LOT of pain to the point of morphine everyday for a year. Then I had brain surgery...but the pain from this pill came pretty close!! In serious pain to the point of blacking out hot and cold shivers and just sat in pain feeling like trapped wind/indigestion it&#039;s just.. Ahhhh!!!! Don&#039;t take this!!!\"\n",
    "\n",
    "input1 = input1.lower()\n",
    "input2 = input2.lower()\n",
    "input3 = input3.lower()\n"
   ]
  },
  {
   "cell_type": "markdown",
   "metadata": {},
   "source": [
    "## Tokenization, stemming, lemmatization, and stopword\n",
    "\n",
    "원형으로 바꾼뒤에 어간 추출해야할듯"
   ]
  },
  {
   "cell_type": "code",
   "execution_count": 10,
   "metadata": {},
   "outputs": [
    {
     "name": "stdout",
     "output_type": "stream",
     "text": [
      "Name: tensorflow\n",
      "Version: 2.4.1\n",
      "Summary: TensorFlow is an open source machine learning framework for everyone.\n",
      "Home-page: https://www.tensorflow.org/\n",
      "Author: Google Inc.\n",
      "Author-email: packages@tensorflow.org\n",
      "License: Apache 2.0\n",
      "Location: /Users/JunKi/opt/anaconda3/lib/python3.8/site-packages\n",
      "Requires: gast, tensorflow-estimator, h5py, flatbuffers, numpy, astunparse, termcolor, grpcio, protobuf, typing-extensions, absl-py, google-pasta, wrapt, six, tensorboard, keras-preprocessing, wheel, opt-einsum\n",
      "Required-by: \n",
      "['cough', 'phlegm', 'sore', 'throat', 'rash', 'blar', 'today', 'see', 'movi', 'headach']\n",
      "['neck', 'armpit', 'swollen', 'red']\n",
      "['depress', 'rapid', 'heart', 'rate', 'annoy', 'anxieti']\n"
     ]
    }
   ],
   "source": [
    "!pip show tensorflow\n",
    "\n",
    "import re\n",
    "from tensorflow.keras.preprocessing.text import text_to_word_sequence\n",
    "from nltk.corpus import stopwords\n",
    "from nltk.tokenize import word_tokenize\n",
    "from nltk.stem import WordNetLemmatizer\n",
    "from nltk.stem import PorterStemmer\n",
    "\n",
    "#engLemm = WordNetLemmatizer()\n",
    "engStopword = set(stopwords.words('english'))\n",
    "pst = PorterStemmer()\n",
    "\n",
    "def tokenize(input, engStopword)->list:\n",
    "    tokenizeWord = text_to_word_sequence(input)\n",
    "    #tokenizeWord = engLemm.lemmatize(tokenizeWord)\n",
    "    result = []\n",
    "    for word in tokenizeWord:\n",
    "        if word not in engStopword:\n",
    "            result.append(word)\n",
    "    \n",
    "    return result\n",
    "\n",
    "input1 = tokenize(input1, engStopword)\n",
    "input2 = tokenize(input2, engStopword)\n",
    "input3 = tokenize(input3, engStopword)\n",
    "\n",
    "stemmedInput1 = [pst.stem(token) for token in input1]\n",
    "stemmedInput2 = [pst.stem(token) for token in input2]\n",
    "stemmedInput3 = [pst.stem(token) for token in input3]\n",
    "# nltk의 stem을 쓴 이유가 기억 나질 않아 (찾아야 함)\n",
    "        \n",
    "print(stemmedInput1)\n",
    "print(stemmedInput2)\n",
    "print(stemmedInput3)"
   ]
  },
  {
   "cell_type": "markdown",
   "metadata": {},
   "source": [
    "## Bi-gram으로 변환\n",
    "sore throat와 같이 symptom이 2개의 corpus로 이루어질 수 있을것 같음\n",
    "###### (?)빨갛게 부어오른 피부 는 세개지 않나?"
   ]
  },
  {
   "cell_type": "code",
   "execution_count": 11,
   "metadata": {},
   "outputs": [
    {
     "name": "stdout",
     "output_type": "stream",
     "text": [
      "['cough phlegm', 'phlegm sore', 'sore throat', 'throat rash', 'rash blar', 'blar today', 'today see', 'see movi', 'movi headach'] \n",
      " ['neck armpit', 'armpit swollen', 'swollen red'] \n",
      " ['depress rapid', 'rapid heart', 'heart rate', 'rate annoy', 'annoy anxieti']\n"
     ]
    }
   ],
   "source": [
    "biInput1 = list(zip(stemmedInput1, stemmedInput1[1:]))\n",
    "biInput2 = list(zip(stemmedInput2, stemmedInput2[1:]))\n",
    "biInput3 = list(zip(stemmedInput3, stemmedInput3[1:]))\n",
    "\n",
    "def change(tupleData)->list:\n",
    "    result = []\n",
    "    for listData in tupleData:\n",
    "        tmp = list(listData)\n",
    "        result.append(\" \".join(listData))\n",
    "    return result\n",
    "    \n",
    "biInput1 = change(biInput1)\n",
    "biInput2 = change(biInput2)\n",
    "biInput3 = change(biInput3)\n",
    "\n",
    "print(biInput1,\"\\n\",biInput2,\"\\n\",biInput3)"
   ]
  },
  {
   "cell_type": "markdown",
   "metadata": {},
   "source": [
    "## Knowledge Base 긁어오기"
   ]
  },
  {
   "cell_type": "code",
   "execution_count": 19,
   "metadata": {},
   "outputs": [
    {
     "name": "stdout",
     "output_type": "stream",
     "text": [
      "Collecting html_table_parser\n",
      "  Downloading html_table_parser-0.1.0.tar.gz (3.4 kB)\n",
      "Requirement already satisfied: beautifulsoup4==4.4.1 in /Users/JunKi/.local/lib/python3.8/site-packages (from html_table_parser) (4.4.1)\n",
      "Building wheels for collected packages: html-table-parser\n",
      "  Building wheel for html-table-parser (setup.py) ... \u001b[?25ldone\n",
      "\u001b[?25h  Created wheel for html-table-parser: filename=html_table_parser-0.1.0-py3-none-any.whl size=4646 sha256=50dcecc06b9c147b768a392c46bc4f1f3d33473a962e23c6d0834fc96cfbd5bd\n",
      "  Stored in directory: /Users/JunKi/Library/Caches/pip/wheels/b8/a6/f0/e77452c538f4ab23004d6d23be1a38e39cfd45ab8a80f6709d\n",
      "Successfully built html-table-parser\n",
      "Installing collected packages: html-table-parser\n",
      "Successfully installed html-table-parser-0.1.0\n",
      "0                pain   chest\n",
      "1       shortness   of breath\n",
      "2                   dizziness\n",
      "3                    asthenia\n",
      "4                        fall\n",
      "                ...          \n",
      "1861      bedridden^bedridden\n",
      "1862               prostatism\n",
      "1863          systolic murmur\n",
      "1864                    frail\n",
      "1865                    fever\n",
      "Name: Symptom, Length: 1866, dtype: object\n"
     ]
    }
   ],
   "source": [
    "#pip install --upgrade beautifulsoup4==4.4.1\n",
    "#pip install --upgrade \"html5lib==1.0b8\"\n",
    "!pip install html_table_parser\n",
    "import pandas as pd\n",
    "from urllib.request import urlopen\n",
    "from bs4 import BeautifulSoup\n",
    "from html_table_parser import parser_functions as parser\n",
    "\n",
    "url = \"https://people.dbmi.columbia.edu/~friedma/Projects/DiseaseSymptomKB/index.html\"\n",
    "\n",
    "result = urlopen(url)\n",
    "html = result.read()\n",
    "soup = BeautifulSoup(html, 'html.parser')\n",
    "\n",
    "temp = soup.find_all('table')\n",
    "p = parser.make2d(temp[0])\n",
    "\n",
    "df = pd.DataFrame(p[1:],columns = p[0])\n",
    "\n",
    "df['Symptom'] = df['Symptom'].str.replace('\\d+', '')\n",
    "df['Symptom'] = df['Symptom'].str.replace('\\s', ' ')\n",
    "df['Symptom'] = df['Symptom'].str.replace('UMLS', '')\n",
    "df['Symptom'] = df['Symptom'].str.replace(':C_', '')\n",
    "\n",
    "print(df['Symptom'])"
   ]
  },
  {
   "cell_type": "code",
   "execution_count": 21,
   "metadata": {},
   "outputs": [
    {
     "data": {
      "text/html": [
       "<div>\n",
       "<style scoped>\n",
       "    .dataframe tbody tr th:only-of-type {\n",
       "        vertical-align: middle;\n",
       "    }\n",
       "\n",
       "    .dataframe tbody tr th {\n",
       "        vertical-align: top;\n",
       "    }\n",
       "\n",
       "    .dataframe thead th {\n",
       "        text-align: right;\n",
       "    }\n",
       "</style>\n",
       "<table border=\"1\" class=\"dataframe\">\n",
       "  <thead>\n",
       "    <tr style=\"text-align: right;\">\n",
       "      <th></th>\n",
       "      <th>Disease</th>\n",
       "      <th>Count of Disease\\n  Occurrence</th>\n",
       "      <th>Symptom</th>\n",
       "    </tr>\n",
       "  </thead>\n",
       "  <tbody>\n",
       "    <tr>\n",
       "      <th>0</th>\n",
       "      <td>UMLS:C0020538_hypertensive\\n  disease</td>\n",
       "      <td>3363</td>\n",
       "      <td>pain   chest</td>\n",
       "    </tr>\n",
       "    <tr>\n",
       "      <th>1</th>\n",
       "      <td></td>\n",
       "      <td></td>\n",
       "      <td>shortness   of breath</td>\n",
       "    </tr>\n",
       "    <tr>\n",
       "      <th>2</th>\n",
       "      <td></td>\n",
       "      <td></td>\n",
       "      <td>dizziness</td>\n",
       "    </tr>\n",
       "    <tr>\n",
       "      <th>3</th>\n",
       "      <td></td>\n",
       "      <td></td>\n",
       "      <td>asthenia</td>\n",
       "    </tr>\n",
       "    <tr>\n",
       "      <th>4</th>\n",
       "      <td></td>\n",
       "      <td></td>\n",
       "      <td>fall</td>\n",
       "    </tr>\n",
       "    <tr>\n",
       "      <th>...</th>\n",
       "      <td>...</td>\n",
       "      <td>...</td>\n",
       "      <td>...</td>\n",
       "    </tr>\n",
       "    <tr>\n",
       "      <th>1861</th>\n",
       "      <td></td>\n",
       "      <td></td>\n",
       "      <td>bedridden^bedridden</td>\n",
       "    </tr>\n",
       "    <tr>\n",
       "      <th>1862</th>\n",
       "      <td></td>\n",
       "      <td></td>\n",
       "      <td>prostatism</td>\n",
       "    </tr>\n",
       "    <tr>\n",
       "      <th>1863</th>\n",
       "      <td>UMLS:C0011127_decubitus\\n  ulcer</td>\n",
       "      <td>42</td>\n",
       "      <td>systolic murmur</td>\n",
       "    </tr>\n",
       "    <tr>\n",
       "      <th>1864</th>\n",
       "      <td></td>\n",
       "      <td></td>\n",
       "      <td>frail</td>\n",
       "    </tr>\n",
       "    <tr>\n",
       "      <th>1865</th>\n",
       "      <td></td>\n",
       "      <td></td>\n",
       "      <td>fever</td>\n",
       "    </tr>\n",
       "  </tbody>\n",
       "</table>\n",
       "<p>1866 rows × 3 columns</p>\n",
       "</div>"
      ],
      "text/plain": [
       "                                    Disease Count of Disease\\n  Occurrence  \\\n",
       "0     UMLS:C0020538_hypertensive\\n  disease                           3363   \n",
       "1                                                                            \n",
       "2                                                                            \n",
       "3                                                                            \n",
       "4                                                                            \n",
       "...                                     ...                            ...   \n",
       "1861                                                                         \n",
       "1862                                                                         \n",
       "1863       UMLS:C0011127_decubitus\\n  ulcer                             42   \n",
       "1864                                                                         \n",
       "1865                                                                         \n",
       "\n",
       "                    Symptom  \n",
       "0              pain   chest  \n",
       "1     shortness   of breath  \n",
       "2                 dizziness  \n",
       "3                  asthenia  \n",
       "4                      fall  \n",
       "...                     ...  \n",
       "1861    bedridden^bedridden  \n",
       "1862             prostatism  \n",
       "1863        systolic murmur  \n",
       "1864                  frail  \n",
       "1865                  fever  \n",
       "\n",
       "[1866 rows x 3 columns]"
      ]
     },
     "execution_count": 21,
     "metadata": {},
     "output_type": "execute_result"
    }
   ],
   "source": [
    "df"
   ]
  },
  {
   "cell_type": "markdown",
   "metadata": {},
   "source": [
    "## 해당 단어가 knowledge base에 있는지 확인"
   ]
  },
  {
   "cell_type": "code",
   "execution_count": 20,
   "metadata": {},
   "outputs": [
    {
     "name": "stdout",
     "output_type": "stream",
     "text": [
      "['cough', 'sore', 'throat', 'headach']\n",
      "['neck', 'red']\n",
      "['depress', 'rapid', 'heart', 'rate']\n"
     ]
    }
   ],
   "source": [
    "def oneGramCheck(inputStr)->list:\n",
    "    result = []\n",
    "    for word in inputStr:\n",
    "        for baseWord in df['Symptom']:\n",
    "            if word in baseWord:\n",
    "                result.append(word)\n",
    "                break\n",
    "    return result\n",
    "\n",
    "result1 = oneGramCheck(stemmedInput1)\n",
    "result2 = oneGramCheck(stemmedInput2)\n",
    "result3 = oneGramCheck(stemmedInput3)\n",
    "print(result1)\n",
    "print(result2)\n",
    "print(result3)\n",
    "\n"
   ]
  },
  {
   "cell_type": "markdown",
   "metadata": {},
   "source": [
    "## Bi-gram에서도 확인"
   ]
  },
  {
   "cell_type": "code",
   "execution_count": null,
   "metadata": {},
   "outputs": [],
   "source": [
    "biResult1 = oneGramCheck(biInput1)\n",
    "print(biResult1)    "
   ]
  },
  {
   "cell_type": "markdown",
   "metadata": {},
   "source": [
    "## Ah\n",
    "\n",
    "1. one-gram에서는 swollen은 knowledge base에서 swelling, or swell로 표현됨. 따라서 원형비교나 다른 비교방법이 필요할듯\n",
    "2. bi-gram의 경우에서도 corpust 구성 순서가 바뀌어 있을 수 있음"
   ]
  },
  {
   "cell_type": "code",
   "execution_count": 22,
   "metadata": {},
   "outputs": [
    {
     "name": "stdout",
     "output_type": "stream",
     "text": [
      "0.5454545454545454\n",
      "0.6666666666666666\n",
      "0.6666666666666666\n"
     ]
    }
   ],
   "source": [
    "from difflib import SequenceMatcher\n",
    "\n",
    "str1 = 'sore_throat'\n",
    "str2 = 'throat sore'\n",
    "\n",
    "ratio = SequenceMatcher(None, str1, str2).ratio()\n",
    "print(ratio)\n",
    "\n",
    "str1 = 'swell'\n",
    "str2 = 'swollen'\n",
    "\n",
    "ratio = SequenceMatcher(None, str1, str2).ratio()\n",
    "print(ratio)\n",
    "\n",
    "str1 = 'swollen'\n",
    "str2 = 'swelling'\n",
    "\n",
    "ratio = SequenceMatcher(None, str1, str2).ratio()\n",
    "print(ratio)"
   ]
  },
  {
   "cell_type": "code",
   "execution_count": 23,
   "metadata": {},
   "outputs": [
    {
     "name": "stdout",
     "output_type": "stream",
     "text": [
      "0.7272727272727273\n"
     ]
    }
   ],
   "source": [
    "str1 = 'movie headache'\n",
    "str2 = 'headache'\n",
    "ratio = SequenceMatcher(None, str1, str2).ratio()\n",
    "print(ratio)"
   ]
  },
  {
   "cell_type": "markdown",
   "metadata": {},
   "source": [
    "#### 0.5이상만 받으면 될듯"
   ]
  },
  {
   "cell_type": "code",
   "execution_count": null,
   "metadata": {},
   "outputs": [],
   "source": [
    "def occureCheck(inputStr)->list:\n",
    "    result = []\n",
    "    for word in inputStr:\n",
    "        print(word)\n",
    "        for baseWord in df['Symptom']:\n",
    "            ratio = SequenceMatcher(None, baseWord, word).ratio()\n",
    "            if ratio > 0.66:\n",
    "                result.append(word)\n",
    "                break\n",
    "    return result\n",
    "\n",
    "result1 = occureCheck(biInput1)\n",
    "result2 = occureCheck(biInput2)\n",
    "result3 = occureCheck(biInput3)\n",
    "print(result1)\n",
    "print(result2)\n",
    "print(result3)"
   ]
  },
  {
   "cell_type": "markdown",
   "metadata": {},
   "source": [
    "## 근데 어차피 word2Vector등등 이용해서 review 데이터 쓴다면 개별 단어만 쓰면 되지 않나?\n",
    "그래서 "
   ]
  },
  {
   "cell_type": "code",
   "execution_count": null,
   "metadata": {},
   "outputs": [],
   "source": []
  }
 ],
 "metadata": {
  "kernelspec": {
   "display_name": "DrugRecommendation",
   "language": "python",
   "name": "swproject"
  },
  "language_info": {
   "codemirror_mode": {
    "name": "ipython",
    "version": 3
   },
   "file_extension": ".py",
   "mimetype": "text/x-python",
   "name": "python",
   "nbconvert_exporter": "python",
   "pygments_lexer": "ipython3",
   "version": "3.8.5"
  }
 },
 "nbformat": 4,
 "nbformat_minor": 4
}
